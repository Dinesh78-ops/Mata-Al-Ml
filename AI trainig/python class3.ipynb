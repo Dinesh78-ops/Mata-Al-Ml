{
 "cells": [
  {
   "cell_type": "code",
   "execution_count": null,
   "id": "5215f593-9fe3-4a4b-bbeb-c84b906f204a",
   "metadata": {},
   "outputs": [],
   "source": [
    "#what is tuples ? Tuple is a data structure of python. tuple are always in () round brackets\n",
    "#tuples are immutable"
   ]
  },
  {
   "cell_type": "code",
   "execution_count": 1,
   "id": "c8ac591a-14c9-4542-8741-16d347afe881",
   "metadata": {},
   "outputs": [],
   "source": [
    "city_location=('Pune','Mumbai','Chennai','Goa')\n"
   ]
  },
  {
   "cell_type": "code",
   "execution_count": 2,
   "id": "88697d5a-2a39-4858-b48d-601adeb402f5",
   "metadata": {},
   "outputs": [
    {
     "data": {
      "text/plain": [
       "('Pune', 'Mumbai', 'Chennai', 'Goa')"
      ]
     },
     "execution_count": 2,
     "metadata": {},
     "output_type": "execute_result"
    }
   ],
   "source": [
    "city_location\n"
   ]
  },
  {
   "cell_type": "code",
   "execution_count": 3,
   "id": "c7a62b24-7be6-4334-986f-4d672a329531",
   "metadata": {},
   "outputs": [
    {
     "data": {
      "text/plain": [
       "tuple"
      ]
     },
     "execution_count": 3,
     "metadata": {},
     "output_type": "execute_result"
    }
   ],
   "source": [
    "type(city_location)"
   ]
  },
  {
   "cell_type": "code",
   "execution_count": null,
   "id": "5a56b921-b239-4e9e-9dcb-2b7681f13048",
   "metadata": {},
   "outputs": [],
   "source": [
    "# tuple are immutable\n",
    "#But dont worry, we have a trick to add .\n",
    "#first we have to convert tupple into a list."
   ]
  },
  {
   "cell_type": "code",
   "execution_count": 4,
   "id": "9017b40e-1613-41bf-9acd-1a2e9206371e",
   "metadata": {},
   "outputs": [],
   "source": [
    "city_location=list(city_location)"
   ]
  },
  {
   "cell_type": "code",
   "execution_count": 6,
   "id": "9282edc1-aaf6-4149-b002-fcd99b30fb92",
   "metadata": {},
   "outputs": [
    {
     "data": {
      "text/plain": [
       "['Pune', 'Mumbai', 'Chennai', 'Goa']"
      ]
     },
     "execution_count": 6,
     "metadata": {},
     "output_type": "execute_result"
    }
   ],
   "source": [
    "city_location"
   ]
  },
  {
   "cell_type": "code",
   "execution_count": null,
   "id": "26caa6b7-a05a-4374-962a-d4db3a8a72e2",
   "metadata": {},
   "outputs": [],
   "source": [
    "#now back to change in tuple\n"
   ]
  },
  {
   "cell_type": "code",
   "execution_count": 7,
   "id": "81a12ee9-8004-434a-987a-02ad0dbbde9b",
   "metadata": {},
   "outputs": [],
   "source": [
    "city_location.append('Delhi')\n",
    "                    "
   ]
  },
  {
   "cell_type": "code",
   "execution_count": 8,
   "id": "d051e182-47e4-4263-b754-89267f81aae7",
   "metadata": {},
   "outputs": [
    {
     "data": {
      "text/plain": [
       "['Pune', 'Mumbai', 'Chennai', 'Goa', 'Delhi']"
      ]
     },
     "execution_count": 8,
     "metadata": {},
     "output_type": "execute_result"
    }
   ],
   "source": [
    "city_location"
   ]
  },
  {
   "cell_type": "code",
   "execution_count": null,
   "id": "f9ed1db5-61f3-418d-bc10-61454b0ed5eb",
   "metadata": {},
   "outputs": [],
   "source": [
    "#now back to change in tuple\n"
   ]
  },
  {
   "cell_type": "code",
   "execution_count": 9,
   "id": "c97a170b-fc08-433d-a4da-ee0c9fd9f3de",
   "metadata": {},
   "outputs": [],
   "source": [
    "city_location=tuple(city_location)"
   ]
  },
  {
   "cell_type": "code",
   "execution_count": 10,
   "id": "6e90aefd-b33b-46a8-8aed-9741aa9bcf57",
   "metadata": {},
   "outputs": [
    {
     "data": {
      "text/plain": [
       "('Pune', 'Mumbai', 'Chennai', 'Goa', 'Delhi')"
      ]
     },
     "execution_count": 10,
     "metadata": {},
     "output_type": "execute_result"
    }
   ],
   "source": [
    "city_location\n"
   ]
  },
  {
   "cell_type": "code",
   "execution_count": null,
   "id": "d627710d-1e61-42ea-9cc2-d2b361ee10e3",
   "metadata": {},
   "outputs": [],
   "source": [
    "#checking length in tuple \n"
   ]
  },
  {
   "cell_type": "code",
   "execution_count": 11,
   "id": "1c4e692f-1dd1-435a-bce1-ca0e575020ff",
   "metadata": {},
   "outputs": [
    {
     "data": {
      "text/plain": [
       "5"
      ]
     },
     "execution_count": 11,
     "metadata": {},
     "output_type": "execute_result"
    }
   ],
   "source": [
    "len(city_location)"
   ]
  },
  {
   "cell_type": "code",
   "execution_count": null,
   "id": "6435144b-f208-48ad-81de-4ee909889839",
   "metadata": {},
   "outputs": [],
   "source": [
    "#checking indexing in tuple \n"
   ]
  },
  {
   "cell_type": "code",
   "execution_count": 12,
   "id": "ac4a97ab-d529-4267-be78-f8ebaf231429",
   "metadata": {},
   "outputs": [
    {
     "data": {
      "text/plain": [
       "('Pune', 'Mumbai', 'Chennai', 'Goa', 'Delhi')"
      ]
     },
     "execution_count": 12,
     "metadata": {},
     "output_type": "execute_result"
    }
   ],
   "source": [
    "city_location"
   ]
  },
  {
   "cell_type": "code",
   "execution_count": 14,
   "id": "1eaa31ed-5532-4c1e-a9a2-0ceaa0b3c19c",
   "metadata": {},
   "outputs": [
    {
     "data": {
      "text/plain": [
       "'Pune'"
      ]
     },
     "execution_count": 14,
     "metadata": {},
     "output_type": "execute_result"
    }
   ],
   "source": [
    "city_location[0]"
   ]
  },
  {
   "cell_type": "code",
   "execution_count": 15,
   "id": "d6759b4b-cc00-418a-b2c4-7301a1ea1021",
   "metadata": {},
   "outputs": [
    {
     "data": {
      "text/plain": [
       "'Goa'"
      ]
     },
     "execution_count": 15,
     "metadata": {},
     "output_type": "execute_result"
    }
   ],
   "source": [
    "city_location[3]"
   ]
  },
  {
   "cell_type": "code",
   "execution_count": null,
   "id": "eff41432-841e-44f0-8e02-f6083db6a4be",
   "metadata": {},
   "outputs": [],
   "source": []
  },
  {
   "cell_type": "code",
   "execution_count": null,
   "id": "854a89f8-c4a7-4a8b-a40e-f6dd14122895",
   "metadata": {},
   "outputs": [],
   "source": [
    "#slicing \n"
   ]
  },
  {
   "cell_type": "code",
   "execution_count": 16,
   "id": "71eaac72-bfbb-4d3b-8859-04f032a20fe0",
   "metadata": {},
   "outputs": [
    {
     "data": {
      "text/plain": [
       "'Mumbai'"
      ]
     },
     "execution_count": 16,
     "metadata": {},
     "output_type": "execute_result"
    }
   ],
   "source": [
    "city_location[-4]"
   ]
  },
  {
   "cell_type": "code",
   "execution_count": null,
   "id": "391caf48-cb7f-486f-b479-020db4d523e9",
   "metadata": {},
   "outputs": [],
   "source": []
  },
  {
   "cell_type": "code",
   "execution_count": null,
   "id": "5b7b2719-27c6-4a8e-a84d-387e27489965",
   "metadata": {},
   "outputs": [],
   "source": [
    "#Basics Tuple Method.\n",
    "#Tuple have buit in method , but not many as list,\n",
    "#lets see two samples of tuples built in method"
   ]
  },
  {
   "cell_type": "code",
   "execution_count": 21,
   "id": "097430c1-2d56-48a3-a778-549f6fe14b72",
   "metadata": {},
   "outputs": [],
   "source": [
    "numbers=(10,12,14,16,17,18,19,20,22,45,226,28,20,33,36,39,414,48,52,55,57,59.55,85,88,96,55,77,55,)"
   ]
  },
  {
   "cell_type": "code",
   "execution_count": null,
   "id": "87ad3c0d-19ef-4c93-8580-c34541e56176",
   "metadata": {},
   "outputs": [],
   "source": [
    "#index to enter a value"
   ]
  },
  {
   "cell_type": "code",
   "execution_count": 19,
   "id": "38f439fe-5a4e-450a-9ae4-60fd9e87a34f",
   "metadata": {},
   "outputs": [
    {
     "data": {
      "text/plain": [
       "16"
      ]
     },
     "execution_count": 19,
     "metadata": {},
     "output_type": "execute_result"
    }
   ],
   "source": [
    "numbers.index(414)"
   ]
  },
  {
   "cell_type": "code",
   "execution_count": 20,
   "id": "21f8400a-5acb-4c10-95d7-eb7d6deb65fb",
   "metadata": {},
   "outputs": [
    {
     "data": {
      "text/plain": [
       "7"
      ]
     },
     "execution_count": 20,
     "metadata": {},
     "output_type": "execute_result"
    }
   ],
   "source": [
    "numbers.index(20)"
   ]
  },
  {
   "cell_type": "code",
   "execution_count": null,
   "id": "8dc3a360-6622-4360-8958-b14ac3fc9e54",
   "metadata": {},
   "outputs": [],
   "source": [
    "#Use .count to count the number of times a value appears"
   ]
  },
  {
   "cell_type": "code",
   "execution_count": 23,
   "id": "0fcf9d01-8a07-4f4c-87fd-120f15c2cfa4",
   "metadata": {},
   "outputs": [],
   "source": [
    "numbers=(10,12,14,16,17,18,19,20,22,45,226,28,20,33,36,39,414,48,52,55,57,59.55,85,88,96,55,77,55,)"
   ]
  },
  {
   "cell_type": "code",
   "execution_count": 24,
   "id": "f30be647-0d10-472a-a684-950a978b418b",
   "metadata": {},
   "outputs": [
    {
     "data": {
      "text/plain": [
       "3"
      ]
     },
     "execution_count": 24,
     "metadata": {},
     "output_type": "execute_result"
    }
   ],
   "source": [
    "numbers.count(55)"
   ]
  },
  {
   "cell_type": "code",
   "execution_count": null,
   "id": "3118fa6d-cec8-4f95-965e-010b1bd6d3e1",
   "metadata": {},
   "outputs": [],
   "source": []
  },
  {
   "cell_type": "code",
   "execution_count": null,
   "id": "eb85507c-e1a8-446b-80bb-c7116e0e499a",
   "metadata": {},
   "outputs": [],
   "source": [
    "# what is set ? set is a data structure in pyhton. sets are an unordered collection of unique element- "
   ]
  },
  {
   "cell_type": "code",
   "execution_count": 25,
   "id": "1e84ee7a-2996-4fee-bf52-a1abb81f2fd8",
   "metadata": {},
   "outputs": [],
   "source": [
    "student_marks=set()"
   ]
  },
  {
   "cell_type": "code",
   "execution_count": 26,
   "id": "c5fc89f0-dffa-4044-88ad-2ddfa1fd4ab7",
   "metadata": {},
   "outputs": [
    {
     "data": {
      "text/plain": [
       "set"
      ]
     },
     "execution_count": 26,
     "metadata": {},
     "output_type": "execute_result"
    }
   ],
   "source": [
    "type(student_marks)"
   ]
  },
  {
   "cell_type": "code",
   "execution_count": null,
   "id": "b8e7ce38-03cb-4171-bae8-cdd6054c5b93",
   "metadata": {},
   "outputs": [],
   "source": [
    "#we add to set with the add methods"
   ]
  },
  {
   "cell_type": "code",
   "execution_count": 27,
   "id": "7909e5ed-7f81-4237-a069-71ae7e44ed8e",
   "metadata": {},
   "outputs": [],
   "source": [
    "student_marks.add(45)"
   ]
  },
  {
   "cell_type": "code",
   "execution_count": 28,
   "id": "7e094386-62e2-464b-8861-1c1927e167c2",
   "metadata": {
    "scrolled": true
   },
   "outputs": [
    {
     "data": {
      "text/plain": [
       "{45}"
      ]
     },
     "execution_count": 28,
     "metadata": {},
     "output_type": "execute_result"
    }
   ],
   "source": [
    "student_marks"
   ]
  },
  {
   "cell_type": "code",
   "execution_count": null,
   "id": "e600e1b5-a5b7-4867-9912-21aef7bb1cb9",
   "metadata": {},
   "outputs": [],
   "source": [
    "#we add to set with the add methods\n"
   ]
  },
  {
   "cell_type": "code",
   "execution_count": 29,
   "id": "a54e12c6-da3a-47ce-a95e-363cb0bae3d7",
   "metadata": {},
   "outputs": [],
   "source": [
    "student_marks.add(85)"
   ]
  },
  {
   "cell_type": "code",
   "execution_count": 30,
   "id": "cc983a1d-f794-42d2-9cd9-a42fe6834765",
   "metadata": {},
   "outputs": [
    {
     "data": {
      "text/plain": [
       "{45, 85}"
      ]
     },
     "execution_count": 30,
     "metadata": {},
     "output_type": "execute_result"
    }
   ],
   "source": [
    "student_marks"
   ]
  },
  {
   "cell_type": "code",
   "execution_count": null,
   "id": "2dd8d1b2-d76b-4771-8ce2-34f86c4184ed",
   "metadata": {},
   "outputs": [],
   "source": [
    "#You have to know one thing where we use set method.\n",
    "# if we have list with numbers , but in our list lots of numbers available .\n",
    "#what we can do,  we can use set method to get unique element \n"
   ]
  },
  {
   "cell_type": "code",
   "execution_count": 31,
   "id": "0e618e86-c7c5-4d1a-b60b-3d8f730c0aa0",
   "metadata": {},
   "outputs": [],
   "source": [
    "number={5,8,8,9,6,3,2,4,5,6,47,8,11,15,16,14,15,11,85,75,95,68,969,87,55,88,85,969,11,5,2,4,68,87}"
   ]
  },
  {
   "cell_type": "code",
   "execution_count": null,
   "id": "f1b2a40e-151a-4a7d-b213-99fabcc80a67",
   "metadata": {},
   "outputs": [],
   "source": [
    "# remove duplicates "
   ]
  },
  {
   "cell_type": "code",
   "execution_count": 33,
   "id": "b44d210d-0269-4969-af33-a605353bc77a",
   "metadata": {},
   "outputs": [],
   "source": [
    "remove_duplicates=set(number)"
   ]
  },
  {
   "cell_type": "code",
   "execution_count": 34,
   "id": "20fab9af-279a-4817-889c-0dbc78a14749",
   "metadata": {},
   "outputs": [
    {
     "data": {
      "text/plain": [
       "{2, 3, 4, 5, 6, 8, 9, 11, 14, 15, 16, 47, 55, 68, 75, 85, 87, 88, 95, 969}"
      ]
     },
     "execution_count": 34,
     "metadata": {},
     "output_type": "execute_result"
    }
   ],
   "source": [
    "remove_duplicates"
   ]
  },
  {
   "cell_type": "code",
   "execution_count": null,
   "id": "12a6b75d-98f5-499c-9e6b-4dc5c0261817",
   "metadata": {},
   "outputs": [],
   "source": []
  },
  {
   "cell_type": "code",
   "execution_count": null,
   "id": "562e962b-03c6-4074-9629-f8118bb6624c",
   "metadata": {},
   "outputs": [],
   "source": [
    "# what is dictionary ? dictionary is also a data staructure,dictionary contain keys:value in curly {} brackets.dictionary will take corresponding value "
   ]
  },
  {
   "cell_type": "code",
   "execution_count": 39,
   "id": "af7294fc-126b-40c4-98a1-007fd4432607",
   "metadata": {},
   "outputs": [],
   "source": [
    "my_dict={'key1':'value1','key2':'value2'}\n"
   ]
  },
  {
   "cell_type": "code",
   "execution_count": 40,
   "id": "b31ab46a-c361-4b7c-be71-024d81d6a012",
   "metadata": {},
   "outputs": [
    {
     "data": {
      "text/plain": [
       "{'key1': 'value1', 'key2': 'value2'}"
      ]
     },
     "execution_count": 40,
     "metadata": {},
     "output_type": "execute_result"
    }
   ],
   "source": [
    "my_dict"
   ]
  },
  {
   "cell_type": "code",
   "execution_count": 42,
   "id": "117f600d-8d87-4372-84a3-819abcbef34f",
   "metadata": {},
   "outputs": [
    {
     "data": {
      "text/plain": [
       "'value1'"
      ]
     },
     "execution_count": 42,
     "metadata": {},
     "output_type": "execute_result"
    }
   ],
   "source": [
    "my_dict['key1']"
   ]
  },
  {
   "cell_type": "code",
   "execution_count": 44,
   "id": "e77c4cad-cb76-4742-a60f-81e48cab33f0",
   "metadata": {},
   "outputs": [
    {
     "data": {
      "text/plain": [
       "'value2'"
      ]
     },
     "execution_count": 44,
     "metadata": {},
     "output_type": "execute_result"
    }
   ],
   "source": [
    "my_dict['key2']"
   ]
  },
  {
   "cell_type": "code",
   "execution_count": null,
   "id": "5a81bd1d-7709-4372-9287-bbbb5ed77493",
   "metadata": {},
   "outputs": [],
   "source": [
    "#new employees created  "
   ]
  },
  {
   "cell_type": "code",
   "execution_count": 46,
   "id": "a7a12d5f-455f-425f-8b2a-4d615064c874",
   "metadata": {},
   "outputs": [],
   "source": [
    "my_dict={'employees':123,'employees name':['ramesh','suresh','mahesh'],'employees salary':[25000,35000,45000]}"
   ]
  },
  {
   "cell_type": "code",
   "execution_count": 47,
   "id": "62e7ee8e-9c2f-402e-9c5c-20a542bc149c",
   "metadata": {},
   "outputs": [
    {
     "data": {
      "text/plain": [
       "{'employees': 123,\n",
       " 'employees name': ['ramesh', 'suresh', 'mahesh'],\n",
       " 'employees salary': [25000, 35000, 45000]}"
      ]
     },
     "execution_count": 47,
     "metadata": {},
     "output_type": "execute_result"
    }
   ],
   "source": [
    "my_dict"
   ]
  },
  {
   "cell_type": "code",
   "execution_count": null,
   "id": "bbc25aa2-f6df-4608-b89a-5189ad07da10",
   "metadata": {},
   "outputs": [],
   "source": [
    "#call items from the dictionary"
   ]
  },
  {
   "cell_type": "code",
   "execution_count": 48,
   "id": "20fb0cdd-7dd1-47c2-b729-d00ef64a5cef",
   "metadata": {},
   "outputs": [
    {
     "data": {
      "text/plain": [
       "123"
      ]
     },
     "execution_count": 48,
     "metadata": {},
     "output_type": "execute_result"
    }
   ],
   "source": [
    "my_dict['employees']"
   ]
  },
  {
   "cell_type": "code",
   "execution_count": 49,
   "id": "40b8d242-11fe-4ac7-a4b7-abb026a413e8",
   "metadata": {},
   "outputs": [
    {
     "data": {
      "text/plain": [
       "['ramesh', 'suresh', 'mahesh']"
      ]
     },
     "execution_count": 49,
     "metadata": {},
     "output_type": "execute_result"
    }
   ],
   "source": [
    "my_dict['employees name']"
   ]
  },
  {
   "cell_type": "code",
   "execution_count": 50,
   "id": "9191e243-3743-4737-8698-60c61020df0a",
   "metadata": {},
   "outputs": [
    {
     "data": {
      "text/plain": [
       "'ramesh'"
      ]
     },
     "execution_count": 50,
     "metadata": {},
     "output_type": "execute_result"
    }
   ],
   "source": [
    "my_dict['employees name'][0]"
   ]
  },
  {
   "cell_type": "code",
   "execution_count": 51,
   "id": "7b8c8608-f8ac-4171-9974-3181b9906161",
   "metadata": {},
   "outputs": [
    {
     "data": {
      "text/plain": [
       "'mahesh'"
      ]
     },
     "execution_count": 51,
     "metadata": {},
     "output_type": "execute_result"
    }
   ],
   "source": [
    "my_dict['employees name'][2]"
   ]
  },
  {
   "cell_type": "code",
   "execution_count": 52,
   "id": "c07f48f6-08cc-43a1-a884-3121d0e76be7",
   "metadata": {},
   "outputs": [
    {
     "data": {
      "text/plain": [
       "'suresh'"
      ]
     },
     "execution_count": 52,
     "metadata": {},
     "output_type": "execute_result"
    }
   ],
   "source": [
    "my_dict['employees name'][1]"
   ]
  },
  {
   "cell_type": "code",
   "execution_count": null,
   "id": "6db5e979-aaaa-4abf-8ae6-70026cdd7e1d",
   "metadata": {},
   "outputs": [],
   "source": []
  },
  {
   "cell_type": "code",
   "execution_count": 54,
   "id": "27248dbb-3fd7-42f5-91a3-764f9b1d21be",
   "metadata": {},
   "outputs": [
    {
     "data": {
      "text/plain": [
       "'RAMESH'"
      ]
     },
     "execution_count": 54,
     "metadata": {},
     "output_type": "execute_result"
    }
   ],
   "source": [
    "my_dict['employees name'][0].upper()"
   ]
  },
  {
   "cell_type": "code",
   "execution_count": 55,
   "id": "fd82c962-5a22-4603-9aa1-3afabcb78ccf",
   "metadata": {},
   "outputs": [
    {
     "data": {
      "text/plain": [
       "'MAHESH'"
      ]
     },
     "execution_count": 55,
     "metadata": {},
     "output_type": "execute_result"
    }
   ],
   "source": [
    "my_dict['employees name'][2].upper()"
   ]
  },
  {
   "cell_type": "code",
   "execution_count": 56,
   "id": "ec25da15-a1e3-45d0-a796-23f6740d2800",
   "metadata": {},
   "outputs": [
    {
     "data": {
      "text/plain": [
       "'SURESH'"
      ]
     },
     "execution_count": 56,
     "metadata": {},
     "output_type": "execute_result"
    }
   ],
   "source": [
    "my_dict['employees name'][1].upper()"
   ]
  },
  {
   "cell_type": "code",
   "execution_count": 57,
   "id": "baf7e78f-5fc7-4425-8e32-80c955b77377",
   "metadata": {},
   "outputs": [
    {
     "data": {
      "text/plain": [
       "{'employees': 123,\n",
       " 'employees name': ['ramesh', 'suresh', 'mahesh'],\n",
       " 'employees salary': [25000, 35000, 45000]}"
      ]
     },
     "execution_count": 57,
     "metadata": {},
     "output_type": "execute_result"
    }
   ],
   "source": [
    "my_dict"
   ]
  },
  {
   "cell_type": "code",
   "execution_count": 60,
   "id": "4330b23f-2261-40c4-9a38-297e6f1d9180",
   "metadata": {},
   "outputs": [],
   "source": [
    "my_dict['employees salary'][1]=my_dict['employees salary'][1]+1500"
   ]
  },
  {
   "cell_type": "code",
   "execution_count": 61,
   "id": "327f0aa0-179b-4475-bf3c-fdfc3a87669b",
   "metadata": {},
   "outputs": [
    {
     "data": {
      "text/plain": [
       "{'employees': 123,\n",
       " 'employees name': ['ramesh', 'suresh', 'mahesh'],\n",
       " 'employees salary': [25000, 38000, 45000]}"
      ]
     },
     "execution_count": 61,
     "metadata": {},
     "output_type": "execute_result"
    }
   ],
   "source": [
    "my_dict"
   ]
  },
  {
   "cell_type": "code",
   "execution_count": 62,
   "id": "207115d3-44f1-466d-9145-5e5482a98b26",
   "metadata": {},
   "outputs": [],
   "source": [
    "my_dict['employees salary'][0]=my_dict['employees salary'][0]+3500"
   ]
  },
  {
   "cell_type": "code",
   "execution_count": 63,
   "id": "468e36cd-8cc4-474c-8e12-c2282c9b4e5c",
   "metadata": {},
   "outputs": [
    {
     "data": {
      "text/plain": [
       "{'employees': 123,\n",
       " 'employees name': ['ramesh', 'suresh', 'mahesh'],\n",
       " 'employees salary': [28500, 38000, 45000]}"
      ]
     },
     "execution_count": 63,
     "metadata": {},
     "output_type": "execute_result"
    }
   ],
   "source": [
    "my_dict"
   ]
  },
  {
   "cell_type": "code",
   "execution_count": null,
   "id": "95f10664-0ee1-4e41-b655-be60859ba4b0",
   "metadata": {},
   "outputs": [],
   "source": []
  },
  {
   "cell_type": "code",
   "execution_count": null,
   "id": "f5e93bde-90f0-44f7-85bc-997a09b83c13",
   "metadata": {},
   "outputs": [],
   "source": [
    "#Python can multiple, addition , substraction and divide .\n"
   ]
  },
  {
   "cell_type": "code",
   "execution_count": null,
   "id": "8be889de-fcff-4780-9c0a-3399efdd36a2",
   "metadata": {},
   "outputs": [],
   "source": [
    "#sub"
   ]
  },
  {
   "cell_type": "code",
   "execution_count": 64,
   "id": "775ac5ef-70ca-4ca8-81c3-b2c0a283f536",
   "metadata": {},
   "outputs": [],
   "source": [
    "my_dict['employees salary'][1]-=4500"
   ]
  },
  {
   "cell_type": "code",
   "execution_count": 65,
   "id": "d5adaeed-5441-49e4-9d2a-9ab787c7c24d",
   "metadata": {},
   "outputs": [
    {
     "data": {
      "text/plain": [
       "{'employees': 123,\n",
       " 'employees name': ['ramesh', 'suresh', 'mahesh'],\n",
       " 'employees salary': [28500, 33500, 45000]}"
      ]
     },
     "execution_count": 65,
     "metadata": {},
     "output_type": "execute_result"
    }
   ],
   "source": [
    "my_dict"
   ]
  },
  {
   "cell_type": "code",
   "execution_count": 66,
   "id": "1d88965c-3d6e-4ab8-a96e-eae420f56754",
   "metadata": {},
   "outputs": [],
   "source": [
    "my_dict['employees salary'][0]-=500"
   ]
  },
  {
   "cell_type": "code",
   "execution_count": null,
   "id": "2077d21e-ae45-4d60-ab72-e0e914d0e9f9",
   "metadata": {},
   "outputs": [],
   "source": [
    "my_ci"
   ]
  }
 ],
 "metadata": {
  "kernelspec": {
   "display_name": "Python 3 (ipykernel)",
   "language": "python",
   "name": "python3"
  },
  "language_info": {
   "codemirror_mode": {
    "name": "ipython",
    "version": 3
   },
   "file_extension": ".py",
   "mimetype": "text/x-python",
   "name": "python",
   "nbconvert_exporter": "python",
   "pygments_lexer": "ipython3",
   "version": "3.12.7"
  }
 },
 "nbformat": 4,
 "nbformat_minor": 5
}
