{
 "cells": [
  {
   "cell_type": "code",
   "execution_count": null,
   "id": "5a2899f1-e241-4935-a5f0-dd49f2217ff7",
   "metadata": {},
   "outputs": [],
   "source": [
    "#Keywords and Simple Expressions"
   ]
  },
  {
   "cell_type": "code",
   "execution_count": null,
   "id": "2890a932-e298-4449-aa50-a8dfad9eb410",
   "metadata": {},
   "outputs": [],
   "source": [
    "#1. List five Python keywords and describe what they do."
   ]
  },
  {
   "cell_type": "code",
   "execution_count": null,
   "id": "c7c8b7ac-4e51-4e6a-b28b-6fb54d27cc1c",
   "metadata": {},
   "outputs": [],
   "source": [
    "def: Used to define a function. \n",
    "return: Exits a function and returns a value.\n",
    "if: Used for conditional statements. \n",
    "for: Used to create a for loop.\n",
    "in: Checks if a value exists within a sequence or iterable, or used in a for loop "
   ]
  },
  {
   "cell_type": "code",
   "execution_count": null,
   "id": "998cfef4-270f-49ec-8dc9-a5ca9f01068c",
   "metadata": {},
   "outputs": [],
   "source": [
    "#2 2. Write an expression to calculate the area of a rectangle with a length of 5 and width of 10."
   ]
  },
  {
   "cell_type": "code",
   "execution_count": 1,
   "id": "dede4369-e30f-409d-910d-d522918336e3",
   "metadata": {},
   "outputs": [],
   "source": [
    "length = 5"
   ]
  },
  {
   "cell_type": "code",
   "execution_count": 2,
   "id": "26bb1d06-62cf-4d86-91a2-3426014f44dc",
   "metadata": {},
   "outputs": [],
   "source": [
    "width = 10"
   ]
  },
  {
   "cell_type": "code",
   "execution_count": 4,
   "id": "a10750a9-83d2-4506-ab24-c8fa401eb928",
   "metadata": {},
   "outputs": [],
   "source": [
    "area = length * width"
   ]
  },
  {
   "cell_type": "code",
   "execution_count": 5,
   "id": "f2746f60-4379-4af5-a13c-4270483772d7",
   "metadata": {},
   "outputs": [
    {
     "name": "stdout",
     "output_type": "stream",
     "text": [
      "50\n"
     ]
    }
   ],
   "source": [
    "print(area)"
   ]
  },
  {
   "cell_type": "code",
   "execution_count": null,
   "id": "c26171a5-6740-4a0f-8073-329ba879b978",
   "metadata": {},
   "outputs": [],
   "source": [
    "#4. Write a Python expression that combines addition, subtraction, multiplication, and division."
   ]
  },
  {
   "cell_type": "code",
   "execution_count": 6,
   "id": "82455159-bd9a-4c09-af60-35f963196240",
   "metadata": {},
   "outputs": [],
   "source": [
    "a=50\n",
    "b=25\n",
    "c=5\n",
    "d=10"
   ]
  },
  {
   "cell_type": "code",
   "execution_count": 7,
   "id": "333eab0a-6471-44ec-bf7e-6636b3287c0a",
   "metadata": {},
   "outputs": [],
   "source": [
    "result = (a + b - c) * a / d\n"
   ]
  },
  {
   "cell_type": "code",
   "execution_count": 8,
   "id": "701729c0-2e7e-46ca-8ee4-a86e5a1bb0d7",
   "metadata": {},
   "outputs": [
    {
     "data": {
      "text/plain": [
       "350.0"
      ]
     },
     "execution_count": 8,
     "metadata": {},
     "output_type": "execute_result"
    }
   ],
   "source": [
    "result"
   ]
  },
  {
   "cell_type": "code",
   "execution_count": null,
   "id": "617f4db2-38fe-40b7-9306-a1ca8e143b09",
   "metadata": {},
   "outputs": [],
   "source": [
    "#5. What is the output of `10 % 3`? Explain why."
   ]
  },
  {
   "cell_type": "code",
   "execution_count": null,
   "id": "37e65080-b7aa-4ed5-9261-d5a6f309b3b9",
   "metadata": {},
   "outputs": [],
   "source": [
    "# The output is 1. The % operator is the modulus operator and  returns the remainder of a division. dividing 10 by 3 gives a remainder of 1."
   ]
  },
  {
   "cell_type": "code",
   "execution_count": null,
   "id": "bdf8cf6e-256b-4e6d-ba47-e3a36b7ba6fc",
   "metadata": {},
   "outputs": [],
   "source": []
  },
  {
   "cell_type": "code",
   "execution_count": null,
   "id": "a31544f5-5f47-493b-95d7-960798903415",
   "metadata": {},
   "outputs": [],
   "source": [
    "#Data Types"
   ]
  },
  {
   "cell_type": "code",
   "execution_count": null,
   "id": "dd02ab4f-ae30-4ba5-a82b-eeeabfdd30b9",
   "metadata": {},
   "outputs": [],
   "source": [
    "#6. Check the type of the value `3.14` in Python."
   ]
  },
  {
   "cell_type": "code",
   "execution_count": 9,
   "id": "a2bb7e3f-299e-4a87-a570-3ed8e020ed79",
   "metadata": {},
   "outputs": [],
   "source": [
    "a=3.14"
   ]
  },
  {
   "cell_type": "code",
   "execution_count": 10,
   "id": "fb3fa0f4-a7dc-437d-8409-3ae1c3d3b18a",
   "metadata": {},
   "outputs": [
    {
     "name": "stdout",
     "output_type": "stream",
     "text": [
      "3.14\n"
     ]
    }
   ],
   "source": [
    "print(a)\n"
   ]
  },
  {
   "cell_type": "code",
   "execution_count": 11,
   "id": "225ace4e-8521-4f4a-b981-c37d5dc9db98",
   "metadata": {},
   "outputs": [
    {
     "data": {
      "text/plain": [
       "float"
      ]
     },
     "execution_count": 11,
     "metadata": {},
     "output_type": "execute_result"
    }
   ],
   "source": [
    "type(a)"
   ]
  },
  {
   "cell_type": "code",
   "execution_count": null,
   "id": "e21d8285-aa8f-43c1-a454-faf73c047b29",
   "metadata": {},
   "outputs": [],
   "source": [
    "#7. Convert the integer `10` to a float and a string. Print the results."
   ]
  },
  {
   "cell_type": "code",
   "execution_count": 12,
   "id": "7c2d3705-9f8b-4d36-b997-87d88a1accc3",
   "metadata": {},
   "outputs": [],
   "source": [
    "a=10 "
   ]
  },
  {
   "cell_type": "code",
   "execution_count": 13,
   "id": "c47ffabd-45d4-49b0-83b5-8bfd8bb1390d",
   "metadata": {},
   "outputs": [],
   "source": [
    "float_a=float(a)"
   ]
  },
  {
   "cell_type": "code",
   "execution_count": 14,
   "id": "f0328069-44d8-434c-abc9-ea7aec1ecd6d",
   "metadata": {},
   "outputs": [],
   "source": [
    "str_a=str(a)"
   ]
  },
  {
   "cell_type": "code",
   "execution_count": 15,
   "id": "8c85299d-c8a0-415b-a007-30be164c5d02",
   "metadata": {},
   "outputs": [
    {
     "name": "stdout",
     "output_type": "stream",
     "text": [
      "10.0\n",
      "10\n"
     ]
    }
   ],
   "source": [
    "print(float_a)\n",
    "print(str_a)"
   ]
  },
  {
   "cell_type": "code",
   "execution_count": null,
   "id": "a70a10ad-8ced-4586-be68-f2821649586a",
   "metadata": {},
   "outputs": [],
   "source": [
    "#8. Write a statement to add two strings and print the result."
   ]
  },
  {
   "cell_type": "code",
   "execution_count": 22,
   "id": "ad935ab1-b321-4d0a-89d0-3aba5059554c",
   "metadata": {},
   "outputs": [],
   "source": [
    "str_a=\"Hello\""
   ]
  },
  {
   "cell_type": "code",
   "execution_count": 23,
   "id": "a9b031d8-b599-45d4-a67c-1d6f6d5addf4",
   "metadata": {},
   "outputs": [],
   "source": [
    "str_b=\"dinesh\""
   ]
  },
  {
   "cell_type": "code",
   "execution_count": 24,
   "id": "e4e9e4ac-aee1-407a-8491-ead02793b9c9",
   "metadata": {},
   "outputs": [],
   "source": [
    "str_c=str_a + str_b"
   ]
  },
  {
   "cell_type": "code",
   "execution_count": 25,
   "id": "58d6acfa-18b6-43f5-bd4a-3423e8c0a987",
   "metadata": {},
   "outputs": [
    {
     "name": "stdout",
     "output_type": "stream",
     "text": [
      "Hellodinesh\n"
     ]
    }
   ],
   "source": [
    "print(str_c)"
   ]
  },
  {
   "cell_type": "code",
   "execution_count": null,
   "id": "13b33119-5e5b-4e14-81ce-45b20f20fb2b",
   "metadata": {},
   "outputs": [],
   "source": []
  },
  {
   "cell_type": "code",
   "execution_count": null,
   "id": "b4f2e308-804f-4f1c-9295-cbdb46ae96d4",
   "metadata": {},
   "outputs": [],
   "source": [
    "#9. What data type would the result of `3 > 2` be?"
   ]
  },
  {
   "cell_type": "code",
   "execution_count": 26,
   "id": "631186c0-ebff-4e5e-a30d-128144145a0e",
   "metadata": {},
   "outputs": [],
   "source": [
    "a=3"
   ]
  },
  {
   "cell_type": "code",
   "execution_count": 27,
   "id": "7b347c62-b030-4f8d-a8f9-f5d1cc6a150d",
   "metadata": {},
   "outputs": [],
   "source": [
    "b=2"
   ]
  },
  {
   "cell_type": "code",
   "execution_count": 28,
   "id": "9ec06f24-4a57-4894-ab6c-84e64e5fffd1",
   "metadata": {},
   "outputs": [],
   "source": [
    "c=a>b"
   ]
  },
  {
   "cell_type": "code",
   "execution_count": 29,
   "id": "92666aba-8730-4232-897e-8420b9f5d6c1",
   "metadata": {},
   "outputs": [
    {
     "name": "stdout",
     "output_type": "stream",
     "text": [
      "True\n"
     ]
    }
   ],
   "source": [
    "print(c)"
   ]
  },
  {
   "cell_type": "code",
   "execution_count": null,
   "id": "cc04f489-d5de-4c77-b3e3-386b4b30cca4",
   "metadata": {},
   "outputs": [],
   "source": [
    "#The result of 3 > 2 is a boolean type"
   ]
  },
  {
   "cell_type": "code",
   "execution_count": null,
   "id": "0f7ba839-99db-405b-89c0-890d9d7dc8c1",
   "metadata": {},
   "outputs": [],
   "source": []
  },
  {
   "cell_type": "code",
   "execution_count": null,
   "id": "064b9409-cc8f-441a-a1fc-a6da933cd959",
   "metadata": {},
   "outputs": [],
   "source": [
    "#10. How can you convert a string \"123\" into an integer?"
   ]
  },
  {
   "cell_type": "code",
   "execution_count": 30,
   "id": "971dddab-5b88-48a6-b854-d02fc1b35e2e",
   "metadata": {},
   "outputs": [],
   "source": [
    "a_str = \"123\""
   ]
  },
  {
   "cell_type": "code",
   "execution_count": 34,
   "id": "b054257a-2eaf-4b94-994f-ef62232d8812",
   "metadata": {},
   "outputs": [],
   "source": [
    "a_int = int(a_str)"
   ]
  },
  {
   "cell_type": "code",
   "execution_count": 35,
   "id": "71f5b278-884b-49c8-bf15-aa342736476a",
   "metadata": {},
   "outputs": [
    {
     "name": "stdout",
     "output_type": "stream",
     "text": [
      "123\n"
     ]
    }
   ],
   "source": [
    "print(a_int)"
   ]
  },
  {
   "cell_type": "code",
   "execution_count": null,
   "id": "f7299f44-5455-4a41-80f4-27271d535eea",
   "metadata": {},
   "outputs": [],
   "source": []
  },
  {
   "cell_type": "code",
   "execution_count": null,
   "id": "2cbde121-3ef9-444d-bb16-2bf88274b692",
   "metadata": {},
   "outputs": [],
   "source": [
    "#Data Structures"
   ]
  },
  {
   "cell_type": "code",
   "execution_count": null,
   "id": "dfd80d5f-11f2-42cd-91eb-06e7fcc4f175",
   "metadata": {},
   "outputs": [],
   "source": [
    "#11. Create a list of 5 elements and print the third element."
   ]
  },
  {
   "cell_type": "code",
   "execution_count": 36,
   "id": "8ed0a726-d4a8-492f-aa97-f7795020aa84",
   "metadata": {},
   "outputs": [],
   "source": [
    "my_list = [10, 20, 30, 40, 50]"
   ]
  },
  {
   "cell_type": "code",
   "execution_count": 37,
   "id": "ef1c76bb-5abc-482d-b3cd-fa605c2442da",
   "metadata": {},
   "outputs": [
    {
     "name": "stdout",
     "output_type": "stream",
     "text": [
      "30\n"
     ]
    }
   ],
   "source": [
    "print(my_list[2])"
   ]
  },
  {
   "cell_type": "code",
   "execution_count": null,
   "id": "bbc43dde-3c98-4ecb-9179-fb3a4701c4ef",
   "metadata": {},
   "outputs": [],
   "source": [
    "#12. Add a new element to a list called `my_list` using the `.append()` method."
   ]
  },
  {
   "cell_type": "code",
   "execution_count": 40,
   "id": "9d209a87-c6ac-42ad-8071-731692e8c799",
   "metadata": {},
   "outputs": [],
   "source": [
    "my_list = [10, 20, 30, 40, 50]"
   ]
  },
  {
   "cell_type": "code",
   "execution_count": 42,
   "id": "af437dc6-3e4c-40e3-ac44-6167d88db10e",
   "metadata": {},
   "outputs": [],
   "source": [
    "my_list.append(60)\n"
   ]
  },
  {
   "cell_type": "code",
   "execution_count": 43,
   "id": "5e8d2aff-accd-4241-a2a2-f94b2570449c",
   "metadata": {},
   "outputs": [
    {
     "name": "stdout",
     "output_type": "stream",
     "text": [
      "[10, 20, 30, 40, 50, 60, 60]\n"
     ]
    }
   ],
   "source": [
    "print(my_list)"
   ]
  },
  {
   "cell_type": "code",
   "execution_count": null,
   "id": "b407af00-7821-451e-a722-1e4efd63a54e",
   "metadata": {},
   "outputs": [],
   "source": [
    "#13. Remove the last element from a list `my_list` using the `.pop()` method."
   ]
  },
  {
   "cell_type": "code",
   "execution_count": 57,
   "id": "e3609fc9-0855-489b-b201-c1048009cfda",
   "metadata": {},
   "outputs": [],
   "source": [
    "my_list = [10, 20, 30, 40, 50]"
   ]
  },
  {
   "cell_type": "code",
   "execution_count": 58,
   "id": "406b3741-9345-43e0-9369-156f9a9bdaad",
   "metadata": {},
   "outputs": [
    {
     "data": {
      "text/plain": [
       "50"
      ]
     },
     "execution_count": 58,
     "metadata": {},
     "output_type": "execute_result"
    }
   ],
   "source": [
    "my_list.pop()"
   ]
  },
  {
   "cell_type": "code",
   "execution_count": null,
   "id": "7c392b05-a653-46d2-8027-a04351f8ff60",
   "metadata": {},
   "outputs": [],
   "source": [
    "#15. Use slicing to get the last two elements from a list `[10, 20, 30, 40, 50]`."
   ]
  },
  {
   "cell_type": "code",
   "execution_count": 60,
   "id": "2b84dacd-d1e9-42db-a90c-883a3ffca08f",
   "metadata": {},
   "outputs": [],
   "source": [
    "my_list = [10, 20, 30, 40, 50]"
   ]
  },
  {
   "cell_type": "code",
   "execution_count": 62,
   "id": "679ecb3b-4cac-4e63-8668-b4bedd033230",
   "metadata": {},
   "outputs": [
    {
     "name": "stdout",
     "output_type": "stream",
     "text": [
      "[40, 50]\n"
     ]
    }
   ],
   "source": [
    "print(my_list[-2:])"
   ]
  },
  {
   "cell_type": "code",
   "execution_count": null,
   "id": "2a09f002-df56-41b2-8ece-6beb253c1c82",
   "metadata": {},
   "outputs": [],
   "source": [
    "#16. Create a dictionary with keys 'name' and 'age' and values 'Alice' and 25."
   ]
  },
  {
   "cell_type": "code",
   "execution_count": 64,
   "id": "234ba9fd-4618-4096-84ef-ab1759dc7432",
   "metadata": {},
   "outputs": [],
   "source": [
    "person = {'name': 'Alice', 'age': 25}\n"
   ]
  },
  {
   "cell_type": "code",
   "execution_count": null,
   "id": "cb6549a6-99ce-40f6-a9ce-6a38372952fd",
   "metadata": {},
   "outputs": [],
   "source": [
    "#17. Retrieve the value associated with the key 'name' from the dictionary you created in question 16."
   ]
  },
  {
   "cell_type": "code",
   "execution_count": null,
   "id": "b50672c5-4065-47af-870c-1569bf983091",
   "metadata": {},
   "outputs": [],
   "source": [
    "person = {'name': 'Alice', 'age': 25}\n"
   ]
  },
  {
   "cell_type": "code",
   "execution_count": 65,
   "id": "44c9b3c4-c804-4b0b-be9b-6052f211fa65",
   "metadata": {},
   "outputs": [
    {
     "name": "stdout",
     "output_type": "stream",
     "text": [
      "Alice\n"
     ]
    }
   ],
   "source": [
    "print(person['name'])"
   ]
  },
  {
   "cell_type": "code",
   "execution_count": null,
   "id": "e6d73a79-aa08-4bfe-a0fd-d0c189b7a4d5",
   "metadata": {},
   "outputs": [],
   "source": [
    "#18. Check if the key 'name' exists in a dictionary."
   ]
  },
  {
   "cell_type": "code",
   "execution_count": 66,
   "id": "2f6d5ee0-fe12-4d44-87c4-8b8cbbf37ce8",
   "metadata": {},
   "outputs": [],
   "source": [
    "person = {'name': 'Alice', 'age': 25}\n"
   ]
  },
  {
   "cell_type": "code",
   "execution_count": 67,
   "id": "9040a81e-cd0a-4868-9e69-b8d2f2d3ec6b",
   "metadata": {},
   "outputs": [
    {
     "name": "stdout",
     "output_type": "stream",
     "text": [
      "True\n"
     ]
    }
   ],
   "source": [
    "print('name' in person) \n"
   ]
  },
  {
   "cell_type": "code",
   "execution_count": null,
   "id": "afb7d815-af1f-41af-bf83-062b806e2b89",
   "metadata": {},
   "outputs": [],
   "source": [
    "#19. What is the difference between a list and a set in Python?"
   ]
  },
  {
   "cell_type": "code",
   "execution_count": null,
   "id": "ef3d3d14-0a07-4ec5-ba1d-3414d68c817e",
   "metadata": {},
   "outputs": [],
   "source": [
    "List\n",
    "A list is an ordered collection of elements.\n",
    "list allows duplicate elements.\n",
    "\n",
    "A set is an unordered collection of unique elements.\n",
    "It doesn’t allow duplicates."
   ]
  },
  {
   "cell_type": "code",
   "execution_count": null,
   "id": "23b9f112-1ef4-4985-9409-0d658e89fa2b",
   "metadata": {},
   "outputs": [],
   "source": []
  },
  {
   "cell_type": "code",
   "execution_count": 68,
   "id": "b7d6ba43-f769-4aaf-ba6b-b3236fa11194",
   "metadata": {},
   "outputs": [],
   "source": [
    "my_list = [10, 20, 30, 40, 50]"
   ]
  },
  {
   "cell_type": "code",
   "execution_count": 69,
   "id": "b45cad81-78df-4b7b-ab58-a3b2595b580e",
   "metadata": {},
   "outputs": [],
   "source": [
    "my_set=set(my_list)"
   ]
  },
  {
   "cell_type": "code",
   "execution_count": 70,
   "id": "71c0b827-b274-422b-9e7c-54889ce820a0",
   "metadata": {},
   "outputs": [
    {
     "name": "stdout",
     "output_type": "stream",
     "text": [
      "{40, 10, 50, 20, 30}\n"
     ]
    }
   ],
   "source": [
    "print(my_set)"
   ]
  },
  {
   "cell_type": "code",
   "execution_count": null,
   "id": "491b16d9-e9e9-42b2-adee-11d0aa16cac2",
   "metadata": {},
   "outputs": [],
   "source": []
  },
  {
   "cell_type": "code",
   "execution_count": null,
   "id": "08365e8f-9a24-4f94-bb30-53bc7c622dc9",
   "metadata": {},
   "outputs": [],
   "source": [
    "#Branching"
   ]
  },
  {
   "cell_type": "code",
   "execution_count": null,
   "id": "cc2e8d29-432e-46e3-b4a1-59fd1fe0a796",
   "metadata": {},
   "outputs": [],
   "source": [
    "#21. Write an `if` statement that prints 'Greater than 10' if a number is greater than 10."
   ]
  },
  {
   "cell_type": "code",
   "execution_count": 80,
   "id": "af9c7d45-28e3-41d6-8258-d1bc5c0e5b30",
   "metadata": {},
   "outputs": [],
   "source": [
    "number=20\n"
   ]
  },
  {
   "cell_type": "code",
   "execution_count": 82,
   "id": "55ba1ddb-56c7-4125-bb79-755cd448d8e8",
   "metadata": {},
   "outputs": [
    {
     "name": "stdout",
     "output_type": "stream",
     "text": [
      "Greater than 10\n"
     ]
    }
   ],
   "source": [
    "if number > 10:\n",
    "    print('Greater than 10')"
   ]
  },
  {
   "cell_type": "code",
   "execution_count": null,
   "id": "e4c09e66-e158-423b-9c9f-5fd6bf738ed1",
   "metadata": {},
   "outputs": [],
   "source": [
    "#22. Write an `if-else` statement that checks if a number is positive or negative."
   ]
  },
  {
   "cell_type": "code",
   "execution_count": 85,
   "id": "a9180113-ec47-4934-b8b8-87a101685538",
   "metadata": {},
   "outputs": [
    {
     "name": "stdout",
     "output_type": "stream",
     "text": [
      "Negative\n"
     ]
    }
   ],
   "source": [
    "number = -25\n",
    "if number > 0:\n",
    "    print(\"Positive\")\n",
    "else:\n",
    "    print(\"Negative\")"
   ]
  },
  {
   "cell_type": "code",
   "execution_count": null,
   "id": "cc88db78-a632-4a98-8455-8f0f3c196cc5",
   "metadata": {},
   "outputs": [],
   "source": [
    "#23. Write an `if-elif-else` statement that checks if a number is positive, negative, or zero."
   ]
  },
  {
   "cell_type": "code",
   "execution_count": 86,
   "id": "c33fc713-1adb-4c10-ad2a-913304bc1a3f",
   "metadata": {},
   "outputs": [
    {
     "name": "stdout",
     "output_type": "stream",
     "text": [
      "Zero\n"
     ]
    }
   ],
   "source": [
    "number = 0\n",
    "if number > 0:\n",
    "    print(\"Positive\")\n",
    "elif number < 0:\n",
    "    print(\"Negative\")\n",
    "else:\n",
    "    print(\"Zero\")\n"
   ]
  },
  {
   "cell_type": "code",
   "execution_count": null,
   "id": "2b75a1a8-cc0a-40b1-ae1a-6b2c96ec19d9",
   "metadata": {},
   "outputs": [],
   "source": []
  }
 ],
 "metadata": {
  "kernelspec": {
   "display_name": "Python 3 (ipykernel)",
   "language": "python",
   "name": "python3"
  },
  "language_info": {
   "codemirror_mode": {
    "name": "ipython",
    "version": 3
   },
   "file_extension": ".py",
   "mimetype": "text/x-python",
   "name": "python",
   "nbconvert_exporter": "python",
   "pygments_lexer": "ipython3",
   "version": "3.12.7"
  }
 },
 "nbformat": 4,
 "nbformat_minor": 5
}
