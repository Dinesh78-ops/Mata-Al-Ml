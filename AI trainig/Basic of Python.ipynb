{
 "cells": [
  {
   "cell_type": "code",
   "execution_count": 1,
   "id": "5e406871-08b7-416d-a68b-8cfe301699d0",
   "metadata": {},
   "outputs": [],
   "source": [
    "import keyword"
   ]
  },
  {
   "cell_type": "code",
   "execution_count": 2,
   "id": "5ca64fe7-18b0-4ef8-8bcc-cdafbc5c815a",
   "metadata": {},
   "outputs": [
    {
     "name": "stdout",
     "output_type": "stream",
     "text": [
      "['False', 'None', 'True', 'and', 'as', 'assert', 'async', 'await', 'break', 'class', 'continue', 'def', 'del', 'elif', 'else', 'except', 'finally', 'for', 'from', 'global', 'if', 'import', 'in', 'is', 'lambda', 'nonlocal', 'not', 'or', 'pass', 'raise', 'return', 'try', 'while', 'with', 'yield']\n"
     ]
    }
   ],
   "source": [
    "print(keyword.kwlist)"
   ]
  },
  {
   "cell_type": "code",
   "execution_count": 3,
   "id": "df378061-d69a-4432-9c96-0acc57c24d71",
   "metadata": {},
   "outputs": [
    {
     "data": {
      "text/plain": [
       "False"
      ]
     },
     "execution_count": 3,
     "metadata": {},
     "output_type": "execute_result"
    }
   ],
   "source": [
    "True and False"
   ]
  },
  {
   "cell_type": "code",
   "execution_count": 4,
   "id": "d6d8c2c4-72d6-4797-96ea-2716acef4441",
   "metadata": {},
   "outputs": [
    {
     "data": {
      "text/plain": [
       "True"
      ]
     },
     "execution_count": 4,
     "metadata": {},
     "output_type": "execute_result"
    }
   ],
   "source": [
    "True and True"
   ]
  },
  {
   "cell_type": "code",
   "execution_count": 5,
   "id": "eaa89ab7-3856-41bb-8321-235db658466f",
   "metadata": {},
   "outputs": [
    {
     "data": {
      "text/plain": [
       "True"
      ]
     },
     "execution_count": 5,
     "metadata": {},
     "output_type": "execute_result"
    }
   ],
   "source": [
    "True or False"
   ]
  },
  {
   "cell_type": "code",
   "execution_count": 6,
   "id": "ebd572cf-d80d-4552-ac78-42091e66c7b2",
   "metadata": {},
   "outputs": [
    {
     "data": {
      "text/plain": [
       "False"
      ]
     },
     "execution_count": 6,
     "metadata": {},
     "output_type": "execute_result"
    }
   ],
   "source": [
    "not True"
   ]
  },
  {
   "cell_type": "code",
   "execution_count": 7,
   "id": "09b2ef86-3fce-451d-9be2-8359bc276e13",
   "metadata": {},
   "outputs": [
    {
     "data": {
      "text/plain": [
       "True"
      ]
     },
     "execution_count": 7,
     "metadata": {},
     "output_type": "execute_result"
    }
   ],
   "source": [
    "not False"
   ]
  },
  {
   "cell_type": "code",
   "execution_count": 8,
   "id": "bcfa0e6f-ab77-4545-880e-bdb69fd1cbac",
   "metadata": {},
   "outputs": [
    {
     "data": {
      "text/plain": [
       "True"
      ]
     },
     "execution_count": 8,
     "metadata": {},
     "output_type": "execute_result"
    }
   ],
   "source": [
    "True is True"
   ]
  },
  {
   "cell_type": "code",
   "execution_count": 9,
   "id": "cfece0e6-98ce-44a6-925f-013802cd67a2",
   "metadata": {},
   "outputs": [
    {
     "data": {
      "text/plain": [
       "False"
      ]
     },
     "execution_count": 9,
     "metadata": {},
     "output_type": "execute_result"
    }
   ],
   "source": [
    "True is False"
   ]
  },
  {
   "cell_type": "code",
   "execution_count": 10,
   "id": "1d7baf40-7954-4760-b99b-fad8ba5ea1da",
   "metadata": {},
   "outputs": [
    {
     "data": {
      "text/plain": [
       "False"
      ]
     },
     "execution_count": 10,
     "metadata": {},
     "output_type": "execute_result"
    }
   ],
   "source": [
    "False is True"
   ]
  },
  {
   "cell_type": "code",
   "execution_count": null,
   "id": "4a543337-b375-4471-9ce3-6fa4c6d6a34c",
   "metadata": {},
   "outputs": [],
   "source": [
    "#True's vale is 1 and False vale is 0"
   ]
  },
  {
   "cell_type": "code",
   "execution_count": 11,
   "id": "b3868154-130d-4490-a4bb-78ab55840973",
   "metadata": {},
   "outputs": [
    {
     "data": {
      "text/plain": [
       "2"
      ]
     },
     "execution_count": 11,
     "metadata": {},
     "output_type": "execute_result"
    }
   ],
   "source": [
    "True + True "
   ]
  },
  {
   "cell_type": "code",
   "execution_count": 12,
   "id": "d0d5e174-600a-4b2d-8354-ac577aef80a4",
   "metadata": {},
   "outputs": [
    {
     "data": {
      "text/plain": [
       "1"
      ]
     },
     "execution_count": 12,
     "metadata": {},
     "output_type": "execute_result"
    }
   ],
   "source": [
    "True + False"
   ]
  },
  {
   "cell_type": "code",
   "execution_count": 13,
   "id": "95f13dbf-bc98-466b-bf1e-be5eb0b0d09c",
   "metadata": {},
   "outputs": [
    {
     "data": {
      "text/plain": [
       "0"
      ]
     },
     "execution_count": 13,
     "metadata": {},
     "output_type": "execute_result"
    }
   ],
   "source": [
    "False +False"
   ]
  },
  {
   "cell_type": "code",
   "execution_count": 14,
   "id": "653816ce-158d-4451-8249-2fbc3647de57",
   "metadata": {},
   "outputs": [
    {
     "data": {
      "text/plain": [
       "0"
      ]
     },
     "execution_count": 14,
     "metadata": {},
     "output_type": "execute_result"
    }
   ],
   "source": [
    "False - False\n"
   ]
  },
  {
   "cell_type": "code",
   "execution_count": 15,
   "id": "6fcc8c8d-9995-462c-9f72-2ad219656ee6",
   "metadata": {},
   "outputs": [
    {
     "data": {
      "text/plain": [
       "-1"
      ]
     },
     "execution_count": 15,
     "metadata": {},
     "output_type": "execute_result"
    }
   ],
   "source": [
    "False-True\n"
   ]
  },
  {
   "cell_type": "code",
   "execution_count": 16,
   "id": "b2fc1c7e-b110-4638-af05-51fa125db6de",
   "metadata": {},
   "outputs": [
    {
     "data": {
      "text/plain": [
       "True"
      ]
     },
     "execution_count": 16,
     "metadata": {},
     "output_type": "execute_result"
    }
   ],
   "source": [
    "10<=10\n"
   ]
  },
  {
   "cell_type": "code",
   "execution_count": 17,
   "id": "67ed2437-97ed-43c4-b63b-b986cdc5d2a2",
   "metadata": {},
   "outputs": [
    {
     "data": {
      "text/plain": [
       "True"
      ]
     },
     "execution_count": 17,
     "metadata": {},
     "output_type": "execute_result"
    }
   ],
   "source": [
    "10==10\n"
   ]
  },
  {
   "cell_type": "code",
   "execution_count": 18,
   "id": "ce9d40cd-c52f-42ab-8399-be33693099be",
   "metadata": {},
   "outputs": [
    {
     "data": {
      "text/plain": [
       "True"
      ]
     },
     "execution_count": 18,
     "metadata": {},
     "output_type": "execute_result"
    }
   ],
   "source": [
    "True and False or True\n"
   ]
  },
  {
   "cell_type": "code",
   "execution_count": null,
   "id": "ca205670-fbbc-48c8-ab32-4faa49651a16",
   "metadata": {},
   "outputs": [],
   "source": [
    "# Data Type "
   ]
  },
  {
   "cell_type": "code",
   "execution_count": null,
   "id": "ca07a2a5-44dc-4a19-9ec5-fe6ad6f2dd9a",
   "metadata": {},
   "outputs": [],
   "source": [
    "#1 Integer"
   ]
  },
  {
   "cell_type": "code",
   "execution_count": 20,
   "id": "025cc189-ebcd-4bb0-9cd3-714303eeddca",
   "metadata": {},
   "outputs": [],
   "source": [
    "x=30 "
   ]
  },
  {
   "cell_type": "code",
   "execution_count": 21,
   "id": "5ae590f8-049c-4c48-b03f-99fe74b69b59",
   "metadata": {},
   "outputs": [
    {
     "data": {
      "text/plain": [
       "int"
      ]
     },
     "execution_count": 21,
     "metadata": {},
     "output_type": "execute_result"
    }
   ],
   "source": [
    "type(x)"
   ]
  },
  {
   "cell_type": "code",
   "execution_count": null,
   "id": "d5f8a213-28fc-4706-8fda-b081cdc2c27e",
   "metadata": {},
   "outputs": [],
   "source": [
    "#2 Float"
   ]
  },
  {
   "cell_type": "code",
   "execution_count": 22,
   "id": "598c0d97-9f13-402e-a0e7-a10cf3f3b6d2",
   "metadata": {},
   "outputs": [],
   "source": [
    "x=25.5"
   ]
  },
  {
   "cell_type": "code",
   "execution_count": 23,
   "id": "1921186c-58d9-4920-b3bf-a324c5a74271",
   "metadata": {},
   "outputs": [
    {
     "data": {
      "text/plain": [
       "float"
      ]
     },
     "execution_count": 23,
     "metadata": {},
     "output_type": "execute_result"
    }
   ],
   "source": [
    "type(x)"
   ]
  },
  {
   "cell_type": "code",
   "execution_count": 24,
   "id": "788e42bf-d52b-4127-b156-209f4d9f93b1",
   "metadata": {},
   "outputs": [],
   "source": [
    "x=4+5"
   ]
  },
  {
   "cell_type": "code",
   "execution_count": 25,
   "id": "209cf4e3-28ea-4fd9-b4ff-2897ae9a0ecc",
   "metadata": {},
   "outputs": [
    {
     "name": "stdout",
     "output_type": "stream",
     "text": [
      "9\n"
     ]
    }
   ],
   "source": [
    "print(x)\n"
   ]
  },
  {
   "cell_type": "code",
   "execution_count": 31,
   "id": "c4e9cd01-66c5-48c9-9da4-11183173303e",
   "metadata": {},
   "outputs": [],
   "source": [
    "a=5\n",
    "b=15"
   ]
  },
  {
   "cell_type": "code",
   "execution_count": 32,
   "id": "7f1e78c4-33fa-4f23-a796-cd453353ee43",
   "metadata": {},
   "outputs": [],
   "source": [
    "c=a+b"
   ]
  },
  {
   "cell_type": "code",
   "execution_count": 33,
   "id": "ca9a5c97-da5f-4281-a45b-4fd7d2bfa2a8",
   "metadata": {},
   "outputs": [
    {
     "name": "stdout",
     "output_type": "stream",
     "text": [
      "20\n"
     ]
    }
   ],
   "source": [
    "print(c)"
   ]
  },
  {
   "cell_type": "code",
   "execution_count": 34,
   "id": "c490f659-4c0a-4f5e-8a7f-f8e91cc4ac3b",
   "metadata": {},
   "outputs": [],
   "source": [
    "a=5\n",
    "b=5"
   ]
  },
  {
   "cell_type": "code",
   "execution_count": 35,
   "id": "6b50431f-e78d-47bf-a3d9-4bdd0a405a5c",
   "metadata": {},
   "outputs": [],
   "source": [
    "c=a*b"
   ]
  },
  {
   "cell_type": "code",
   "execution_count": 36,
   "id": "21b3e8c4-a50a-41b0-9182-dbeb495d330a",
   "metadata": {},
   "outputs": [
    {
     "name": "stdout",
     "output_type": "stream",
     "text": [
      "25\n"
     ]
    }
   ],
   "source": [
    "print(c)\n"
   ]
  },
  {
   "cell_type": "code",
   "execution_count": null,
   "id": "82f6d01e-077b-4fb1-b99e-40e9fbdcc936",
   "metadata": {},
   "outputs": [],
   "source": []
  }
 ],
 "metadata": {
  "kernelspec": {
   "display_name": "Python 3 (ipykernel)",
   "language": "python",
   "name": "python3"
  },
  "language_info": {
   "codemirror_mode": {
    "name": "ipython",
    "version": 3
   },
   "file_extension": ".py",
   "mimetype": "text/x-python",
   "name": "python",
   "nbconvert_exporter": "python",
   "pygments_lexer": "ipython3",
   "version": "3.12.7"
  }
 },
 "nbformat": 4,
 "nbformat_minor": 5
}
