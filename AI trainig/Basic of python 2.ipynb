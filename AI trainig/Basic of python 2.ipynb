{
 "cells": [
  {
   "cell_type": "code",
   "execution_count": null,
   "id": "e34cdac0-3f19-4032-8835-cf82e4276da8",
   "metadata": {},
   "outputs": [],
   "source": [
    "#Data Structure"
   ]
  },
  {
   "cell_type": "code",
   "execution_count": null,
   "id": "e706ac04-574b-4795-90a5-b87656e8977b",
   "metadata": {},
   "outputs": [],
   "source": [
    "#1 List"
   ]
  },
  {
   "cell_type": "code",
   "execution_count": 1,
   "id": "432a05e6-a2d1-439c-9087-fc7fe27c63de",
   "metadata": {},
   "outputs": [],
   "source": [
    "lst=[]"
   ]
  },
  {
   "cell_type": "code",
   "execution_count": 2,
   "id": "014b992d-d4fc-4d62-a8f2-58d13d69029c",
   "metadata": {},
   "outputs": [
    {
     "data": {
      "text/plain": [
       "list"
      ]
     },
     "execution_count": 2,
     "metadata": {},
     "output_type": "execute_result"
    }
   ],
   "source": [
    "type(lst)"
   ]
  },
  {
   "cell_type": "code",
   "execution_count": 7,
   "id": "80002d6b-c293-48eb-8434-490720ae38bf",
   "metadata": {},
   "outputs": [],
   "source": [
    "lst =['a,b,c,d']"
   ]
  },
  {
   "cell_type": "code",
   "execution_count": 8,
   "id": "e45b0317-a3cd-4919-855a-74e74f1bab16",
   "metadata": {},
   "outputs": [
    {
     "name": "stdout",
     "output_type": "stream",
     "text": [
      "['a,b,c,d']\n"
     ]
    }
   ],
   "source": [
    "print(lst)"
   ]
  },
  {
   "cell_type": "code",
   "execution_count": 12,
   "id": "27d53311-a541-4262-bde8-07282b927868",
   "metadata": {},
   "outputs": [],
   "source": [
    "marks=[30,40,50,60]\n"
   ]
  },
  {
   "cell_type": "code",
   "execution_count": 13,
   "id": "b59754b3-f6e5-429f-89dd-a371806f1994",
   "metadata": {},
   "outputs": [],
   "source": [
    "copy_marks=marks.copy()\n"
   ]
  },
  {
   "cell_type": "code",
   "execution_count": 14,
   "id": "75d22ed9-9ded-45bd-86ce-8a471532e5ea",
   "metadata": {},
   "outputs": [
    {
     "data": {
      "text/plain": [
       "[30, 40, 50, 60]"
      ]
     },
     "execution_count": 14,
     "metadata": {},
     "output_type": "execute_result"
    }
   ],
   "source": [
    "copy_marks"
   ]
  },
  {
   "cell_type": "code",
   "execution_count": 15,
   "id": "c29d8882-8a55-43c7-8014-de03a35a5a46",
   "metadata": {},
   "outputs": [
    {
     "data": {
      "text/plain": [
       "['d', 'i', 'n', 'e', 's', 'h']"
      ]
     },
     "execution_count": 15,
     "metadata": {},
     "output_type": "execute_result"
    }
   ],
   "source": [
    "list('dinesh')"
   ]
  },
  {
   "cell_type": "code",
   "execution_count": null,
   "id": "f03aea44-c4f2-4ce4-92fa-2349d56cd050",
   "metadata": {},
   "outputs": [],
   "source": []
  },
  {
   "cell_type": "code",
   "execution_count": null,
   "id": "ebe67c8e-2933-4f0d-a8a0-df798b7cd13d",
   "metadata": {},
   "outputs": [],
   "source": [
    "#2 append"
   ]
  },
  {
   "cell_type": "code",
   "execution_count": 16,
   "id": "8a67540b-4607-42eb-96e6-2d9ccad82939",
   "metadata": {},
   "outputs": [],
   "source": [
    "l1=[]\n"
   ]
  },
  {
   "cell_type": "code",
   "execution_count": 17,
   "id": "69e60b13-8808-4a0c-b03f-eb03b2b7519c",
   "metadata": {},
   "outputs": [],
   "source": [
    "l1.append('Dinesh')"
   ]
  },
  {
   "cell_type": "code",
   "execution_count": 18,
   "id": "7bf2da17-a645-4aa1-be96-4599c106e052",
   "metadata": {},
   "outputs": [
    {
     "data": {
      "text/plain": [
       "['Dinesh']"
      ]
     },
     "execution_count": 18,
     "metadata": {},
     "output_type": "execute_result"
    }
   ],
   "source": [
    "l1"
   ]
  },
  {
   "cell_type": "code",
   "execution_count": 19,
   "id": "027a5799-155f-4d15-b81d-38797e2ec362",
   "metadata": {},
   "outputs": [],
   "source": [
    "l1.append('Danish')"
   ]
  },
  {
   "cell_type": "code",
   "execution_count": 20,
   "id": "4ddc104e-18bb-412c-99aa-29c7d3d43c29",
   "metadata": {},
   "outputs": [
    {
     "data": {
      "text/plain": [
       "['Dinesh', 'Danish']"
      ]
     },
     "execution_count": 20,
     "metadata": {},
     "output_type": "execute_result"
    }
   ],
   "source": [
    "l1"
   ]
  },
  {
   "cell_type": "code",
   "execution_count": 21,
   "id": "6edb1b11-fc35-4218-beaa-59286f8bcf53",
   "metadata": {},
   "outputs": [],
   "source": [
    "l1.append('yoesh')\n",
    "l1.append('mohan')"
   ]
  },
  {
   "cell_type": "code",
   "execution_count": 22,
   "id": "34aa9811-51b9-490f-8bc6-9e13f0fea8a1",
   "metadata": {},
   "outputs": [
    {
     "data": {
      "text/plain": [
       "['Dinesh', 'Danish', 'yoesh', 'mohan']"
      ]
     },
     "execution_count": 22,
     "metadata": {},
     "output_type": "execute_result"
    }
   ],
   "source": [
    "l1"
   ]
  },
  {
   "cell_type": "code",
   "execution_count": null,
   "id": "5b55c121-ff8d-4b42-bafe-26a124602919",
   "metadata": {},
   "outputs": [],
   "source": []
  },
  {
   "cell_type": "code",
   "execution_count": null,
   "id": "3be18822-eeb3-497b-aa71-385fe1ae78b4",
   "metadata": {},
   "outputs": [],
   "source": [
    "#indexing  \n"
   ]
  },
  {
   "cell_type": "code",
   "execution_count": 23,
   "id": "7d6a7618-2597-4f3e-91ca-eebe2cff30ba",
   "metadata": {},
   "outputs": [],
   "source": [
    "l1=['Dinesh', 'Danish', 'yoesh', 'mohan']\n"
   ]
  },
  {
   "cell_type": "code",
   "execution_count": 24,
   "id": "bfc6b3a7-2567-4430-9de5-4c4fa0f9f3d2",
   "metadata": {},
   "outputs": [
    {
     "data": {
      "text/plain": [
       "['Dinesh', 'Danish', 'yoesh', 'mohan']"
      ]
     },
     "execution_count": 24,
     "metadata": {},
     "output_type": "execute_result"
    }
   ],
   "source": [
    "l1"
   ]
  },
  {
   "cell_type": "code",
   "execution_count": 26,
   "id": "677b23da-c9e6-46fa-8777-4c6cb63a9af5",
   "metadata": {},
   "outputs": [],
   "source": [
    "l1.insert(2,'Umesh')"
   ]
  },
  {
   "cell_type": "code",
   "execution_count": 27,
   "id": "db9aae76-f897-47ca-ad66-467067d12133",
   "metadata": {},
   "outputs": [
    {
     "data": {
      "text/plain": [
       "['Dinesh', 'Danish', 'Umesh', 'yoesh', 'mohan']"
      ]
     },
     "execution_count": 27,
     "metadata": {},
     "output_type": "execute_result"
    }
   ],
   "source": [
    "l1"
   ]
  },
  {
   "cell_type": "code",
   "execution_count": 29,
   "id": "3f966405-03c3-43e6-bfa8-9183ae2247ca",
   "metadata": {},
   "outputs": [],
   "source": [
    "l1.insert(5,'akash')"
   ]
  },
  {
   "cell_type": "code",
   "execution_count": 30,
   "id": "752bef41-b130-48bd-9e70-7af11c131f70",
   "metadata": {},
   "outputs": [
    {
     "data": {
      "text/plain": [
       "['Dinesh', 'Danish', 'Umesh', 'yoesh', 'mohan', 'akash']"
      ]
     },
     "execution_count": 30,
     "metadata": {},
     "output_type": "execute_result"
    }
   ],
   "source": [
    "l1"
   ]
  },
  {
   "cell_type": "code",
   "execution_count": null,
   "id": "a9b77bfe-6c59-4b65-a23e-54176565d4eb",
   "metadata": {},
   "outputs": [],
   "source": []
  },
  {
   "cell_type": "code",
   "execution_count": 35,
   "id": "50397ead-04a3-48d4-a4ba-e4ddd1d2e96d",
   "metadata": {},
   "outputs": [],
   "source": [
    "l1=[1,5,88,77,55,66,89,65]\n"
   ]
  },
  {
   "cell_type": "code",
   "execution_count": 36,
   "id": "ed78d2f4-8796-4df1-8a2f-8cd7e2f5a743",
   "metadata": {},
   "outputs": [
    {
     "data": {
      "text/plain": [
       "[1, 5, 88, 77, 55, 66, 89, 65]"
      ]
     },
     "execution_count": 36,
     "metadata": {},
     "output_type": "execute_result"
    }
   ],
   "source": [
    "l1"
   ]
  },
  {
   "cell_type": "code",
   "execution_count": 37,
   "id": "20fa5353-29da-4c1b-8dc1-0254140400e1",
   "metadata": {},
   "outputs": [],
   "source": [
    "l1.insert(5,'59')"
   ]
  },
  {
   "cell_type": "code",
   "execution_count": 38,
   "id": "fddff70d-ae8d-400a-8f4d-14578b42058b",
   "metadata": {},
   "outputs": [
    {
     "data": {
      "text/plain": [
       "[1, 5, 88, 77, 55, '59', 66, 89, 65]"
      ]
     },
     "execution_count": 38,
     "metadata": {},
     "output_type": "execute_result"
    }
   ],
   "source": [
    "l1"
   ]
  },
  {
   "cell_type": "code",
   "execution_count": null,
   "id": "82c3077d-2371-4151-83bb-a564a3a674dd",
   "metadata": {},
   "outputs": [],
   "source": [
    "# Extended Method"
   ]
  },
  {
   "cell_type": "code",
   "execution_count": 39,
   "id": "e33f9210-17bc-47f2-a0d7-1f98c218b85d",
   "metadata": {},
   "outputs": [
    {
     "data": {
      "text/plain": [
       "[1, 5, 88, 77, 55, '59', 66, 89, 65]"
      ]
     },
     "execution_count": 39,
     "metadata": {},
     "output_type": "execute_result"
    }
   ],
   "source": [
    "l1"
   ]
  },
  {
   "cell_type": "code",
   "execution_count": 40,
   "id": "c0055ddd-5d4b-4428-9e97-698193ffe3d7",
   "metadata": {},
   "outputs": [
    {
     "data": {
      "text/plain": [
       "9"
      ]
     },
     "execution_count": 40,
     "metadata": {},
     "output_type": "execute_result"
    }
   ],
   "source": [
    "len(l1)"
   ]
  },
  {
   "cell_type": "code",
   "execution_count": null,
   "id": "62444be4-bcc3-45a6-a0f8-b8053b11a055",
   "metadata": {},
   "outputs": [],
   "source": [
    "#replace"
   ]
  },
  {
   "cell_type": "code",
   "execution_count": 48,
   "id": "11e49304-e12e-4f9c-9871-922b0475a581",
   "metadata": {},
   "outputs": [],
   "source": [
    "l1=['Dinesh','Danish','Umesh','Moahan','Yogesh']"
   ]
  },
  {
   "cell_type": "code",
   "execution_count": 49,
   "id": "d7378d4f-2e45-42d8-a389-dd3dabaa084e",
   "metadata": {},
   "outputs": [],
   "source": [
    "l1[3]='Sarvesh'"
   ]
  },
  {
   "cell_type": "code",
   "execution_count": 50,
   "id": "13feaf03-78fe-404e-bd02-3a8a2984a1de",
   "metadata": {},
   "outputs": [
    {
     "data": {
      "text/plain": [
       "['Dinesh', 'Danish', 'Umesh', 'Sarvesh', 'Yogesh']"
      ]
     },
     "execution_count": 50,
     "metadata": {},
     "output_type": "execute_result"
    }
   ],
   "source": [
    "l1"
   ]
  },
  {
   "cell_type": "code",
   "execution_count": 51,
   "id": "c6c3da87-db30-4b58-928f-36e81fef775a",
   "metadata": {},
   "outputs": [],
   "source": [
    "l1=[11,22,33,44,55,66,77,88,99]"
   ]
  },
  {
   "cell_type": "markdown",
   "id": "f88a0bab-3841-4c4d-b3a0-3210f487f2c8",
   "metadata": {},
   "source": []
  },
  {
   "cell_type": "code",
   "execution_count": 52,
   "id": "89482f1c-477d-482e-8109-1ef81b30aed9",
   "metadata": {},
   "outputs": [
    {
     "data": {
      "text/plain": [
       "[33, 44, 55, 66, 77, 88, 99]"
      ]
     },
     "execution_count": 52,
     "metadata": {},
     "output_type": "execute_result"
    }
   ],
   "source": [
    "l1[2:]"
   ]
  },
  {
   "cell_type": "code",
   "execution_count": 54,
   "id": "94fd6236-ac7a-4e58-92ee-9c1f4914b6e1",
   "metadata": {},
   "outputs": [
    {
     "data": {
      "text/plain": [
       "[55, 66, 77, 88, 99]"
      ]
     },
     "execution_count": 54,
     "metadata": {},
     "output_type": "execute_result"
    }
   ],
   "source": [
    "l1[4:]"
   ]
  },
  {
   "cell_type": "code",
   "execution_count": 55,
   "id": "dea80919-cd40-4361-820d-041821e6b539",
   "metadata": {},
   "outputs": [
    {
     "data": {
      "text/plain": [
       "[11, 22, 33, 44, 55, 66]"
      ]
     },
     "execution_count": 55,
     "metadata": {},
     "output_type": "execute_result"
    }
   ],
   "source": [
    "l1[0:6]"
   ]
  },
  {
   "cell_type": "code",
   "execution_count": null,
   "id": "daa19426-b02b-495a-802c-c8c02e5aa175",
   "metadata": {},
   "outputs": [],
   "source": [
    "#count"
   ]
  },
  {
   "cell_type": "markdown",
   "id": "f6503451-6687-4244-a018-99556fba3631",
   "metadata": {},
   "source": []
  },
  {
   "cell_type": "code",
   "execution_count": 60,
   "id": "903c1f5f-20c9-40ad-aa5a-c9321a92c3dc",
   "metadata": {},
   "outputs": [],
   "source": [
    "l1=[11,22,33,44,55,66,77,55,66,88,99]"
   ]
  },
  {
   "cell_type": "code",
   "execution_count": 61,
   "id": "fded8dfe-de24-4bae-9d08-ab33992eff3d",
   "metadata": {},
   "outputs": [
    {
     "data": {
      "text/plain": [
       "2"
      ]
     },
     "execution_count": 61,
     "metadata": {},
     "output_type": "execute_result"
    }
   ],
   "source": [
    "l1.count(55)\n"
   ]
  },
  {
   "cell_type": "code",
   "execution_count": null,
   "id": "a11057e6-4288-4d73-9b0f-d419b369b8f3",
   "metadata": {},
   "outputs": [],
   "source": [
    "#Remove"
   ]
  },
  {
   "cell_type": "code",
   "execution_count": 62,
   "id": "01204c61-06f6-472b-bd05-91cf6df0d40c",
   "metadata": {},
   "outputs": [],
   "source": [
    "l1=[11,22,33,44,55,66,77,55,66,88,99]"
   ]
  },
  {
   "cell_type": "code",
   "execution_count": 64,
   "id": "ae1c3fe2-3138-4a84-8d54-98edd353b276",
   "metadata": {},
   "outputs": [],
   "source": [
    "l1.remove(55)"
   ]
  },
  {
   "cell_type": "code",
   "execution_count": 65,
   "id": "a48f7595-711c-4659-8343-8d2582e2a1bd",
   "metadata": {},
   "outputs": [
    {
     "data": {
      "text/plain": [
       "[11, 22, 33, 44, 66, 77, 66, 88, 99]"
      ]
     },
     "execution_count": 65,
     "metadata": {},
     "output_type": "execute_result"
    }
   ],
   "source": [
    "l1"
   ]
  },
  {
   "cell_type": "code",
   "execution_count": null,
   "id": "10d71cb4-12a1-4d12-a724-20192be2d4aa",
   "metadata": {},
   "outputs": [],
   "source": []
  },
  {
   "cell_type": "code",
   "execution_count": null,
   "id": "5653d9bb-9904-45fb-8c4f-986170e97eaf",
   "metadata": {},
   "outputs": [],
   "source": [
    "#Reverse"
   ]
  },
  {
   "cell_type": "code",
   "execution_count": 66,
   "id": "8d307e71-a3f6-446a-90d7-b39c882f9e61",
   "metadata": {},
   "outputs": [],
   "source": [
    "l1=[11,22,33,44,55,66,77,55,66,88,99]"
   ]
  },
  {
   "cell_type": "code",
   "execution_count": 68,
   "id": "92c487eb-6fc4-4c7d-9b44-d7605eec7de9",
   "metadata": {},
   "outputs": [],
   "source": [
    "l1.reverse()"
   ]
  },
  {
   "cell_type": "code",
   "execution_count": 69,
   "id": "1e4d5411-3dc9-4919-9281-2b3768b06e39",
   "metadata": {},
   "outputs": [
    {
     "data": {
      "text/plain": [
       "[99, 88, 66, 55, 77, 66, 55, 44, 33, 22, 11]"
      ]
     },
     "execution_count": 69,
     "metadata": {},
     "output_type": "execute_result"
    }
   ],
   "source": [
    "l1"
   ]
  },
  {
   "cell_type": "code",
   "execution_count": null,
   "id": "e1f4a872-38ba-43f9-90a1-b26f9e0e5ff2",
   "metadata": {},
   "outputs": [],
   "source": []
  },
  {
   "cell_type": "code",
   "execution_count": null,
   "id": "df73b5b9-61ed-4155-940b-24be5e4482c8",
   "metadata": {},
   "outputs": [],
   "source": [
    "#Sort"
   ]
  },
  {
   "cell_type": "code",
   "execution_count": 70,
   "id": "bcc6e831-98f8-4e78-850c-503bea9eda3a",
   "metadata": {},
   "outputs": [],
   "source": [
    "l1=[99, 88, 66, 55, 77, 66, 55, 44, 33, 22, 11]\n"
   ]
  },
  {
   "cell_type": "code",
   "execution_count": 71,
   "id": "2a4a7d5c-0222-4baa-ad67-542a09bc5b6c",
   "metadata": {},
   "outputs": [],
   "source": [
    "l1.sort()"
   ]
  },
  {
   "cell_type": "code",
   "execution_count": 72,
   "id": "44a79962-cd82-4c52-9e51-f4f10647cd0e",
   "metadata": {},
   "outputs": [
    {
     "data": {
      "text/plain": [
       "[11, 22, 33, 44, 55, 55, 66, 66, 77, 88, 99]"
      ]
     },
     "execution_count": 72,
     "metadata": {},
     "output_type": "execute_result"
    }
   ],
   "source": [
    "l1"
   ]
  },
  {
   "cell_type": "code",
   "execution_count": null,
   "id": "2967b914-f21f-4a5b-8ea5-9f397045ac79",
   "metadata": {},
   "outputs": [],
   "source": []
  }
 ],
 "metadata": {
  "kernelspec": {
   "display_name": "Python 3 (ipykernel)",
   "language": "python",
   "name": "python3"
  },
  "language_info": {
   "codemirror_mode": {
    "name": "ipython",
    "version": 3
   },
   "file_extension": ".py",
   "mimetype": "text/x-python",
   "name": "python",
   "nbconvert_exporter": "python",
   "pygments_lexer": "ipython3",
   "version": "3.12.7"
  }
 },
 "nbformat": 4,
 "nbformat_minor": 5
}
