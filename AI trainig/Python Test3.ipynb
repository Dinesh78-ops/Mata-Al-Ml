{
 "cells": [
  {
   "cell_type": "code",
   "execution_count": null,
   "id": "b0431d45-cdfd-4bdc-8692-3036e1949d31",
   "metadata": {},
   "outputs": [],
   "source": [
    "PYTHON"
   ]
  },
  {
   "cell_type": "code",
   "execution_count": null,
   "id": "100dff49-290a-4a27-b29e-4c9903f8e037",
   "metadata": {},
   "outputs": [],
   "source": [
    "#2. Use map to double all the elements in the list: [1, 2, 3, 4, 5]."
   ]
  },
  {
   "cell_type": "code",
   "execution_count": 2,
   "id": "5ef21df6-e5fc-442f-8e35-793e33fed42a",
   "metadata": {},
   "outputs": [
    {
     "name": "stdout",
     "output_type": "stream",
     "text": [
      "[2, 4, 6, 8, 10]\n"
     ]
    }
   ],
   "source": [
    "numbers = [1, 2, 3, 4, 5]\n",
    "doubled_numbers = list(map(lambda x: x * 2, numbers))\n",
    "print(doubled_numbers)"
   ]
  },
  {
   "cell_type": "code",
   "execution_count": null,
   "id": "d5a425dc-7310-4676-8ba7-ef39b20fe864",
   "metadata": {},
   "outputs": [],
   "source": [
    "#3. Use filter to extract all even numbers from the list: [10, 15, 20, 25, 30]."
   ]
  },
  {
   "cell_type": "code",
   "execution_count": 3,
   "id": "9582fb7e-1b42-49cc-9405-e44344a2ea69",
   "metadata": {},
   "outputs": [
    {
     "name": "stdout",
     "output_type": "stream",
     "text": [
      "Even numbers: [10, 20, 30]\n"
     ]
    }
   ],
   "source": [
    "numbers = [10, 15, 20, 25, 30]\n",
    "# extract even numbers\n",
    "even_numbers = list(filter(lambda x: x % 2 == 0, numbers))\n",
    "print(\"Even numbers:\", even_numbers)"
   ]
  },
  {
   "cell_type": "code",
   "execution_count": null,
   "id": "d5be834d-f0b7-45f5-b0ee-763ffd7ad957",
   "metadata": {},
   "outputs": [],
   "source": [
    "#5. Write a function that takes a variable number of arguments (*args) and returns\n",
    "their sum."
   ]
  },
  {
   "cell_type": "code",
   "execution_count": 4,
   "id": "1bc487a5-2abd-41c6-8caa-b49f328d3203",
   "metadata": {},
   "outputs": [
    {
     "name": "stdout",
     "output_type": "stream",
     "text": [
      "425\n"
     ]
    }
   ],
   "source": [
    "def sum_of_args(*args):\n",
    "    return sum(args)\n",
    "result = sum_of_args(50,100,125,150)\n",
    "print(result)\n"
   ]
  },
  {
   "cell_type": "code",
   "execution_count": null,
   "id": "170af4dc-88f8-4ab5-888f-ef0f006b6fbb",
   "metadata": {},
   "outputs": [],
   "source": [
    "#10.Write a program to print the first 10 natural numbers using a for loop."
   ]
  },
  {
   "cell_type": "code",
   "execution_count": 5,
   "id": "3bb5fcf5-d656-46c0-b6cb-18e3cae8f459",
   "metadata": {},
   "outputs": [
    {
     "name": "stdout",
     "output_type": "stream",
     "text": [
      "1\n",
      "2\n",
      "3\n",
      "4\n",
      "5\n",
      "6\n",
      "7\n",
      "8\n",
      "9\n",
      "10\n"
     ]
    }
   ],
   "source": [
    "# Program to print the first 10 natural numbers\n",
    "for i in range(1, 11):\n",
    "    print(i)\n"
   ]
  },
  {
   "cell_type": "code",
   "execution_count": null,
   "id": "158c60e5-7d58-4192-99ab-525f5d47e2dd",
   "metadata": {},
   "outputs": [],
   "source": [
    "#11.Write a program to calculate the sum of all numbers in a list: [5, 10, 15, 20] using a for loop"
   ]
  },
  {
   "cell_type": "code",
   "execution_count": 6,
   "id": "33d8e0c4-6fb3-41b5-b224-e5ea94bed66d",
   "metadata": {},
   "outputs": [
    {
     "name": "stdout",
     "output_type": "stream",
     "text": [
      "50\n"
     ]
    }
   ],
   "source": [
    "numbers = [5, 10, 15, 20]\n",
    "total_sum = 0\n",
    "for num in numbers:\n",
    "    total_sum += num\n",
    "\n",
    "print(total_sum)\n"
   ]
  },
  {
   "cell_type": "code",
   "execution_count": null,
   "id": "33a4f5b7-ee22-4715-a279-b1694fef39d4",
   "metadata": {},
   "outputs": [],
   "source": []
  },
  {
   "cell_type": "code",
   "execution_count": null,
   "id": "493f6d1d-7792-4f69-8286-1c956f31f5d0",
   "metadata": {},
   "outputs": [],
   "source": [
    "#12.Write a Python program to print the multiplication table of a given number using a while loop."
   ]
  },
  {
   "cell_type": "code",
   "execution_count": 9,
   "id": "e7356d8b-1a10-4b01-8ec4-6bc5832a048a",
   "metadata": {},
   "outputs": [
    {
     "name": "stdin",
     "output_type": "stream",
     "text": [
      "Enter multiplication table:  2\n"
     ]
    },
    {
     "name": "stdout",
     "output_type": "stream",
     "text": [
      "Multiplication table of is  2:\n",
      "2 x 1 = 2\n",
      "2 x 2 = 4\n",
      "2 x 3 = 6\n",
      "2 x 4 = 8\n",
      "2 x 5 = 10\n",
      "2 x 6 = 12\n",
      "2 x 7 = 14\n",
      "2 x 8 = 16\n",
      "2 x 9 = 18\n",
      "2 x 10 = 20\n"
     ]
    }
   ],
   "source": [
    "num = int(input(\"Enter multiplication table: \"))\n",
    "i = 1\n",
    "\n",
    "print(f\"Multiplication table of is  {num}:\")\n",
    "while i <= 10:\n",
    "    print(f\"{num} x {i} = {num * i}\")\n",
    "    i += 1\n"
   ]
  },
  {
   "cell_type": "code",
   "execution_count": null,
   "id": "1cc76f68-a7bc-4e5c-9db3-2599c9f12ea1",
   "metadata": {},
   "outputs": [],
   "source": [
    "#13.Write a program to find the factorial of a number using a while loop."
   ]
  },
  {
   "cell_type": "code",
   "execution_count": 12,
   "id": "f717a10a-fa62-4175-8adc-989d6017f3cc",
   "metadata": {},
   "outputs": [
    {
     "name": "stdin",
     "output_type": "stream",
     "text": [
      "number is  to find its factorial:  8\n"
     ]
    },
    {
     "name": "stdout",
     "output_type": "stream",
     "text": [
      "The factorial of 8 is 40320\n"
     ]
    }
   ],
   "source": [
    "num = int(input(\"number is  to find its factorial: \"))\n",
    "factorial = 1\n",
    "i = 1\n",
    "while i <= num:\n",
    "    factorial *= i\n",
    "    i += 1\n",
    "print(f\"The factorial of {num} is {factorial}\" )\n"
   ]
  },
  {
   "cell_type": "code",
   "execution_count": null,
   "id": "c98556f5-538b-448a-a7b8-9ff55b26c7fb",
   "metadata": {},
   "outputs": [],
   "source": [
    "#14.Write a Python program to check if a number entered by the user is even or odd."
   ]
  },
  {
   "cell_type": "code",
   "execution_count": 13,
   "id": "02758e06-0c91-4f5a-9ca4-f70b166aba1a",
   "metadata": {},
   "outputs": [
    {
     "name": "stdin",
     "output_type": "stream",
     "text": [
      "Enter a number:  4\n"
     ]
    },
    {
     "name": "stdout",
     "output_type": "stream",
     "text": [
      "The number is even.\n"
     ]
    }
   ],
   "source": [
    "#for even number \n",
    "number = int(input(\"Enter a number: \"))\n",
    "if number % 2 == 0:\n",
    "    print(\"The number is even.\")\n",
    "else:\n",
    "    print(\"The number is odd.\")"
   ]
  },
  {
   "cell_type": "code",
   "execution_count": 14,
   "id": "3f3b57b0-5601-4c77-b3fd-4a03af077472",
   "metadata": {},
   "outputs": [
    {
     "name": "stdin",
     "output_type": "stream",
     "text": [
      "Enter a number:  5\n"
     ]
    },
    {
     "name": "stdout",
     "output_type": "stream",
     "text": [
      "The number is odd.\n"
     ]
    }
   ],
   "source": [
    "#for odd number \n",
    "number = int(input(\"Enter a number: \"))\n",
    "if number % 2 == 0:\n",
    "    print(\"The number is even.\")\n",
    "else:\n",
    "    print(\"The number is odd.\")"
   ]
  },
  {
   "cell_type": "code",
   "execution_count": null,
   "id": "ab44b4d2-3149-47a5-91c4-7da12e05ccdb",
   "metadata": {},
   "outputs": [],
   "source": [
    "#17 .Write a function to find the maximum of three numbers entered by the user."
   ]
  },
  {
   "cell_type": "code",
   "execution_count": 15,
   "id": "a4633434-0a39-44c5-be02-f2937676b173",
   "metadata": {},
   "outputs": [
    {
     "name": "stdout",
     "output_type": "stream",
     "text": [
      "The max of three number 200\n"
     ]
    }
   ],
   "source": [
    "def max_of_three(a, b, c):\n",
    "    return max(a, b, c)\n",
    "result=max_of_three(150,100,200)\n",
    "print(\"The max of three number\",result)"
   ]
  },
  {
   "cell_type": "code",
   "execution_count": null,
   "id": "8b87eb27-0a99-4925-86ad-027e1c59d7fe",
   "metadata": {},
   "outputs": [],
   "source": [
    "#18.Write a function that takes a list of numbers and returns the largest number"
   ]
  },
  {
   "cell_type": "code",
   "execution_count": 17,
   "id": "5d4c95f7-a37e-4cc8-b10d-0485a0e5ffa1",
   "metadata": {},
   "outputs": [
    {
     "name": "stdout",
     "output_type": "stream",
     "text": [
      "The largest number in the list is: 25\n"
     ]
    }
   ],
   "source": [
    "def find_largest(numbers):\n",
    "    return max(numbers)\n",
    "numbers_list = [2,5,6,8,9,10,15,18,25]\n",
    "largest_number = find_largest(numbers_list)\n",
    "print(f\"The largest number in the list is: {largest_number}\")\n"
   ]
  },
  {
   "cell_type": "code",
   "execution_count": null,
   "id": "1949ae3a-278b-4be1-a2ae-5f5a63cbe785",
   "metadata": {},
   "outputs": [],
   "source": [
    "#19.Write a Python program to reverse a string using a for loop."
   ]
  },
  {
   "cell_type": "code",
   "execution_count": 18,
   "id": "fe7f55f1-431d-4ed3-ab76-0259e2dbfa61",
   "metadata": {},
   "outputs": [
    {
     "name": "stdin",
     "output_type": "stream",
     "text": [
      "Enter a string to reverse:  Dinesh\n"
     ]
    },
    {
     "name": "stdout",
     "output_type": "stream",
     "text": [
      "The reversed string is: hseniD\n"
     ]
    }
   ],
   "source": [
    "def reverse_string(s):\n",
    "    reversed_str = \"\"\n",
    "    for char in s:\n",
    "        reversed_str = char + reversed_str\n",
    "    return reversed_str\n",
    "input_string = input(\"Enter a string to reverse: \")\n",
    "reversed_string = reverse_string(input_string)\n",
    "print(f\"The reversed string is: {reversed_string}\")\n"
   ]
  },
  {
   "cell_type": "code",
   "execution_count": null,
   "id": "e9c87fe0-cfa4-49ed-8021-33c2f9aed086",
   "metadata": {},
   "outputs": [],
   "source": [
    "#20.Write a Python program to count the number of vowels in a string entered by the user."
   ]
  },
  {
   "cell_type": "code",
   "execution_count": 23,
   "id": "34808dfc-6f6c-4292-b9aa-a5b23c04d893",
   "metadata": {},
   "outputs": [
    {
     "name": "stdin",
     "output_type": "stream",
     "text": [
      "Enter a string to count the vowels:  dinesh\n"
     ]
    },
    {
     "name": "stdout",
     "output_type": "stream",
     "text": [
      "The number of vowels in the string : 2\n"
     ]
    }
   ],
   "source": [
    "def count_vowels(a):\n",
    "    vowels = \"aeiou\"\n",
    "    count = 0\n",
    "    for char in a:\n",
    "        if char in vowels:\n",
    "            count += 1\n",
    "    return count\n",
    "input_string = input(\"Enter a string to count the vowels: \")\n",
    "vowel_count = count_vowels(input_string)\n",
    "print(f\"The number of vowels in the string : {vowel_count}\")\n",
    "\n"
   ]
  },
  {
   "cell_type": "code",
   "execution_count": null,
   "id": "79964be4-3a64-4864-819d-fa34618a9959",
   "metadata": {},
   "outputs": [],
   "source": []
  },
  {
   "cell_type": "code",
   "execution_count": null,
   "id": "53e82990-1c29-4d51-af18-94360625221a",
   "metadata": {},
   "outputs": [],
   "source": [
    "NumPy Questions"
   ]
  },
  {
   "cell_type": "code",
   "execution_count": null,
   "id": "7abf6877-b6cf-42eb-8a18-2bfa76d1c0ed",
   "metadata": {},
   "outputs": [],
   "source": [
    "#1. Create a NumPy array of zeros with shape (3, 4)"
   ]
  },
  {
   "cell_type": "code",
   "execution_count": 26,
   "id": "811e1b85-b9e7-48a9-99cf-807e38545194",
   "metadata": {},
   "outputs": [
    {
     "name": "stdout",
     "output_type": "stream",
     "text": [
      "[[0. 0. 0. 0.]\n",
      " [0. 0. 0. 0.]\n",
      " [0. 0. 0. 0.]]\n"
     ]
    }
   ],
   "source": [
    "import numpy as np\n",
    "zeros_array = np.zeros((3, 4))\n",
    "print(zeros_array)\n"
   ]
  },
  {
   "cell_type": "code",
   "execution_count": null,
   "id": "57e2ab81-ec13-4221-bcb8-6163ceb26841",
   "metadata": {},
   "outputs": [],
   "source": [
    "#2. Create a NumPy array of ones with shape (2, 5)."
   ]
  },
  {
   "cell_type": "code",
   "execution_count": 27,
   "id": "d4558ff9-88f2-4f71-87c2-ee5a614f21b8",
   "metadata": {},
   "outputs": [
    {
     "name": "stdout",
     "output_type": "stream",
     "text": [
      "[[1. 1. 1. 1. 1.]\n",
      " [1. 1. 1. 1. 1.]]\n"
     ]
    }
   ],
   "source": [
    "import numpy as np\n",
    "ones_array = np.ones((2, 5))\n",
    "print(ones_array)\n"
   ]
  },
  {
   "cell_type": "code",
   "execution_count": null,
   "id": "57de6b98-2a2e-4efa-af3a-4e7304132588",
   "metadata": {},
   "outputs": [],
   "source": []
  },
  {
   "cell_type": "code",
   "execution_count": 29,
   "id": "26444562-51f8-42ca-b749-3b89d6e3335c",
   "metadata": {},
   "outputs": [
    {
     "name": "stdout",
     "output_type": "stream",
     "text": [
      "[ 1  2  3  4  5  6  7  8  9 10]\n"
     ]
    }
   ],
   "source": [
    "import numpy as np\n",
    "matrix = np.arange(1, 11)\n",
    "print(matrix)\n"
   ]
  },
  {
   "cell_type": "code",
   "execution_count": null,
   "id": "07b2b2c2-9f4c-4525-871b-d44d2817ae49",
   "metadata": {},
   "outputs": [],
   "source": [
    "#4. Create a NumPy array with numbers from 0 to 1 (inclusive) with a step size of 0.1 using np.arange()."
   ]
  },
  {
   "cell_type": "code",
   "execution_count": 30,
   "id": "ebf4d70d-90e5-4622-98b9-4f754512a6c5",
   "metadata": {},
   "outputs": [
    {
     "name": "stdout",
     "output_type": "stream",
     "text": [
      "[0.  0.1 0.2 0.3 0.4 0.5 0.6 0.7 0.8 0.9 1. ]\n"
     ]
    }
   ],
   "source": [
    "import numpy as np\n",
    "array = np.arange(0, 1.1, 0.1)\n",
    "print(array)\n"
   ]
  },
  {
   "cell_type": "code",
   "execution_count": null,
   "id": "634e48e1-c2bf-4f74-a335-39d9fc22c2c5",
   "metadata": {},
   "outputs": [],
   "source": [
    "##7. Compute the sum of all elements in the array np.array([2, 3, 4, 5, 6])."
   ]
  },
  {
   "cell_type": "code",
   "execution_count": 32,
   "id": "7327abbc-4741-432e-a4c2-72bdd1040b9f",
   "metadata": {},
   "outputs": [
    {
     "name": "stdout",
     "output_type": "stream",
     "text": [
      "20\n"
     ]
    }
   ],
   "source": [
    "import numpy as np\n",
    "array = np.array([2, 3, 4, 5, 6])\n",
    "sum_of_elements = np.sum(array)\n",
    "print(sum_of_elements)\n"
   ]
  },
  {
   "cell_type": "code",
   "execution_count": null,
   "id": "b1d67874-0e20-497c-b6c9-44fd313454ca",
   "metadata": {},
   "outputs": [],
   "source": [
    "#8. Find the minimum value in the array np.array([1, 5, 9, 3, 6]) using np.min()"
   ]
  },
  {
   "cell_type": "code",
   "execution_count": 34,
   "id": "2947f891-2b22-4d17-87e5-1cd6b498d873",
   "metadata": {},
   "outputs": [
    {
     "name": "stdout",
     "output_type": "stream",
     "text": [
      "1\n"
     ]
    }
   ],
   "source": [
    "import numpy as np\n",
    "array=np.array([1,5,9,3,6])\n",
    "print(np.min(array))"
   ]
  },
  {
   "cell_type": "code",
   "execution_count": null,
   "id": "5b708714-02a3-40b4-921f-fc59376935f3",
   "metadata": {},
   "outputs": [],
   "source": [
    "#9. Find the maximum value in the array np.array([1, 5, 9, 3, 6]) using np.max()."
   ]
  },
  {
   "cell_type": "code",
   "execution_count": 35,
   "id": "cdf551e0-2841-4dd0-9cd3-0f2e8cb04912",
   "metadata": {},
   "outputs": [
    {
     "name": "stdout",
     "output_type": "stream",
     "text": [
      "9\n"
     ]
    }
   ],
   "source": [
    "import numpy as np\n",
    "array=np.array([1,5,9,3,6])\n",
    "print(np.max(array))"
   ]
  },
  {
   "cell_type": "code",
   "execution_count": null,
   "id": "87ed5358-e34c-4e7c-9c7f-15ea3953f830",
   "metadata": {},
   "outputs": [],
   "source": [
    "#11.Generate an array of 5 random integers between 10 and 50 using np.random.randint().\n"
   ]
  },
  {
   "cell_type": "code",
   "execution_count": 37,
   "id": "1ae37233-ebf3-4077-80f9-e3ab0c9e5094",
   "metadata": {},
   "outputs": [
    {
     "name": "stdout",
     "output_type": "stream",
     "text": [
      "[35 34 37 11 28]\n"
     ]
    }
   ],
   "source": [
    "import numpy as np\n",
    "array=np.random.randint(10,50,5)\n",
    "print(array)"
   ]
  },
  {
   "cell_type": "code",
   "execution_count": null,
   "id": "19024842-58c8-4cf2-aee4-acaaacc34fc1",
   "metadata": {},
   "outputs": [],
   "source": [
    "#19.Reshape a 1D array [1, 2, 3, 4, 5, 6] into a 2x3 matrix using np.reshape()"
   ]
  },
  {
   "cell_type": "code",
   "execution_count": 38,
   "id": "0f04b089-d3a5-4b90-bb2c-3b5cd28c071b",
   "metadata": {},
   "outputs": [
    {
     "name": "stdout",
     "output_type": "stream",
     "text": [
      "[[1 2 3]\n",
      " [4 5 6]]\n"
     ]
    }
   ],
   "source": [
    "import numpy as np\n",
    "arr=np.array([1,2,3,4,5,6])\n",
    "print(arr.reshape(2,3))"
   ]
  },
  {
   "cell_type": "code",
   "execution_count": null,
   "id": "ab35c1c0-0ae9-4875-84dc-2a72d7849cb4",
   "metadata": {},
   "outputs": [],
   "source": [
    "#20.Slice the first two elements from the array np.array([10, 20, 30, 40, 50])."
   ]
  },
  {
   "cell_type": "code",
   "execution_count": 39,
   "id": "4db4f382-2e78-41c9-9deb-7cc1690b80c6",
   "metadata": {},
   "outputs": [
    {
     "name": "stdout",
     "output_type": "stream",
     "text": [
      "[10 20]\n"
     ]
    }
   ],
   "source": [
    "import numpy as np\n",
    "arr=np.array([10,20,30,40,50])\n",
    "print(arr[:2])"
   ]
  },
  {
   "cell_type": "code",
   "execution_count": null,
   "id": "c192551a-1b72-4126-9887-52f510532a3a",
   "metadata": {},
   "outputs": [],
   "source": []
  }
 ],
 "metadata": {
  "kernelspec": {
   "display_name": "Python 3 (ipykernel)",
   "language": "python",
   "name": "python3"
  },
  "language_info": {
   "codemirror_mode": {
    "name": "ipython",
    "version": 3
   },
   "file_extension": ".py",
   "mimetype": "text/x-python",
   "name": "python",
   "nbconvert_exporter": "python",
   "pygments_lexer": "ipython3",
   "version": "3.12.7"
  }
 },
 "nbformat": 4,
 "nbformat_minor": 5
}
