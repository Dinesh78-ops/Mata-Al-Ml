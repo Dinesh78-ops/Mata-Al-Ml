{
 "cells": [
  {
   "cell_type": "code",
   "execution_count": 29,
   "id": "15c0eb15-c4f3-416b-a8d1-fef2cebd66a1",
   "metadata": {},
   "outputs": [
    {
     "name": "stdout",
     "output_type": "stream",
     "text": [
      "11\n"
     ]
    }
   ],
   "source": [
    "#1. Write a Python program to evaluate the expression `5 + 3 * 2` and print the\n",
    "a=5+3*2\n",
    "print(a)"
   ]
  },
  {
   "cell_type": "code",
   "execution_count": 30,
   "id": "307783f7-bec6-4ad1-b027-2f2422be896b",
   "metadata": {},
   "outputs": [
    {
     "name": "stdout",
     "output_type": "stream",
     "text": [
      "13\n"
     ]
    }
   ],
   "source": [
    "#2. Write a program that calculates the result of `2 ** 3 + 5`\n",
    "a=2**3+5\n",
    "print(a)"
   ]
  },
  {
   "cell_type": "code",
   "execution_count": 31,
   "id": "1940433f-b40b-483b-9aee-8a7a9e4a50e0",
   "metadata": {},
   "outputs": [
    {
     "name": "stdout",
     "output_type": "stream",
     "text": [
      "42\n"
     ]
    }
   ],
   "source": [
    "#3. Create a program that calculates the result of the expression `(10 - 3) * (2 + 4)'\n",
    "a=((10-3)*(2+4))\n",
    "print(a)\n"
   ]
  },
  {
   "cell_type": "code",
   "execution_count": 32,
   "id": "120facba-0b3a-46ed-a143-9b5641e386af",
   "metadata": {},
   "outputs": [
    {
     "name": "stdout",
     "output_type": "stream",
     "text": [
      "3\n"
     ]
    }
   ],
   "source": [
    "#4. Write a program that calculates `15 // 4` and prints the result.\n",
    "print(15//4)"
   ]
  },
  {
   "cell_type": "code",
   "execution_count": 33,
   "id": "5ea3dfd8-76bf-4ede-a09b-bbb56c4feafe",
   "metadata": {},
   "outputs": [
    {
     "name": "stdout",
     "output_type": "stream",
     "text": [
      "3\n"
     ]
    }
   ],
   "source": [
    "##5. Write a Python code to find the remainder when dividing 15 by 4 (`15 % 4`).\n",
    "a=(15%4)\n",
    "print(a)##gives the quotient"
   ]
  },
  {
   "cell_type": "code",
   "execution_count": 34,
   "id": "4169382e-60c2-4350-b68c-00442e07b1b4",
   "metadata": {},
   "outputs": [
    {
     "name": "stdout",
     "output_type": "stream",
     "text": [
      "<class 'int'>\n"
     ]
    }
   ],
   "source": [
    "#. 6. Create a variable `x` and assign it the value 42. Print its type using `type()`\n",
    "x=42\n",
    "print(type(x))"
   ]
  },
  {
   "cell_type": "code",
   "execution_count": 35,
   "id": "8078bee9-1f0a-4085-9167-0f9903ad1105",
   "metadata": {},
   "outputs": [
    {
     "name": "stdout",
     "output_type": "stream",
     "text": [
      "<class 'list'>\n"
     ]
    }
   ],
   "source": [
    "#7. Create a list `fruits = ['apple', 'banana', 'cherry']`. Print the type of this list.\n",
    "fruits=['appler','banana','cherry']\n",
    "print(type(fruits))"
   ]
  },
  {
   "cell_type": "code",
   "execution_count": 36,
   "id": "0f6dc160-51b1-4dd1-8b05-4015280ef3c0",
   "metadata": {},
   "outputs": [
    {
     "name": "stdout",
     "output_type": "stream",
     "text": [
      "The type of the variable  <class 'bool'>\n"
     ]
    }
   ],
   "source": [
    "# 8. Create a variable `is_active = True`. Print the type of the variable.\n",
    "# Create the variable\n",
    "is_active = True\n",
    "print(\"The type of the variable \", type(is_active))\n"
   ]
  },
  {
   "cell_type": "code",
   "execution_count": 37,
   "id": "3c53b72d-baa2-453b-b693-cb7e0d4bf7d5",
   "metadata": {},
   "outputs": [
    {
     "name": "stdout",
     "output_type": "stream",
     "text": [
      "<class 'float'>\n"
     ]
    }
   ],
   "source": [
    "# 9. Create a variable `price = 3.14`. Print its type.\n",
    "price=3.14\n",
    "print(type(price))"
   ]
  },
  {
   "cell_type": "code",
   "execution_count": 38,
   "id": "f0193c18-7650-4baf-ab85-7103478936b8",
   "metadata": {},
   "outputs": [
    {
     "name": "stdout",
     "output_type": "stream",
     "text": [
      "Type of string <class 'str'>\n"
     ]
    }
   ],
   "source": [
    "# 10. Write a program to print the type of the string `'Hello World'`.\n",
    "word='Hello World' \n",
    "print(\"Type of string\",type(word))"
   ]
  },
  {
   "cell_type": "code",
   "execution_count": 41,
   "id": "5d4415d9-3f5c-4584-8724-365a401ed5af",
   "metadata": {},
   "outputs": [
    {
     "name": "stdout",
     "output_type": "stream",
     "text": [
      "My favorite fruits ['apple', 'mango', 'banana']\n"
     ]
    }
   ],
   "source": [
    "#11. Create a list of your 3 favorite fruits and print it.\n",
    "list_favorite_fruits=['apple','mango','banana']\n",
    "print(\"My favorite fruits\",list_favorite_fruits)"
   ]
  },
  {
   "cell_type": "code",
   "execution_count": 42,
   "id": "f729437f-6871-4306-8c9d-b02a37e04c53",
   "metadata": {},
   "outputs": [
    {
     "ename": "TypeError",
     "evalue": "'list' object is not callable",
     "output_type": "error",
     "traceback": [
      "\u001b[1;31m---------------------------------------------------------------------------\u001b[0m",
      "\u001b[1;31mTypeError\u001b[0m                                 Traceback (most recent call last)",
      "Cell \u001b[1;32mIn[42], line 4\u001b[0m\n\u001b[0;32m      1\u001b[0m \u001b[38;5;66;03m#12. Convert a tuple `('apple', 'banana', 'cherry')` into a list. Print the new list.\u001b[39;00m\n\u001b[0;32m      2\u001b[0m tuple_fruits\u001b[38;5;241m=\u001b[39m(\u001b[38;5;124m'\u001b[39m\u001b[38;5;124mapple\u001b[39m\u001b[38;5;124m'\u001b[39m, \u001b[38;5;124m'\u001b[39m\u001b[38;5;124mbanana\u001b[39m\u001b[38;5;124m'\u001b[39m, \u001b[38;5;124m'\u001b[39m\u001b[38;5;124mcherry\u001b[39m\u001b[38;5;124m'\u001b[39m)\n\u001b[1;32m----> 4\u001b[0m list_fruits\u001b[38;5;241m=\u001b[39m\u001b[38;5;28mlist\u001b[39m(tuple_fruits)\n\u001b[0;32m      5\u001b[0m \u001b[38;5;28mprint\u001b[39m(\u001b[38;5;124m\"\u001b[39m\u001b[38;5;124mConverted list is \u001b[39m\u001b[38;5;124m\"\u001b[39m,list_fruits)\n",
      "\u001b[1;31mTypeError\u001b[0m: 'list' object is not callable"
     ]
    }
   ],
   "source": [
    "#12. Convert a tuple `('apple', 'banana', 'cherry')` into a list. Print the new list.\n",
    "tuple_fruits=('apple', 'banana', 'cherry')\n",
    "\n",
    "list_fruits=list(tuple_fruits)\n",
    "print(\"Converted list is \",list_fruits)"
   ]
  },
  {
   "cell_type": "code",
   "execution_count": 43,
   "id": "29a51cfe-8457-4502-960a-aba8ac76ddb0",
   "metadata": {},
   "outputs": [
    {
     "name": "stdout",
     "output_type": "stream",
     "text": [
      "10\n"
     ]
    }
   ],
   "source": [
    "#13. Create a list `my_list = [10, 20, 30]`. Access and print the first element of the list.\n",
    "my_list=[10,20,30]  # access the first element by indexing\n",
    "print(my_list[0])"
   ]
  },
  {
   "cell_type": "code",
   "execution_count": 44,
   "id": "c9da7f19-69cb-425d-af27-87683dc59e66",
   "metadata": {},
   "outputs": [
    {
     "name": "stdout",
     "output_type": "stream",
     "text": [
      "lenght of the list is  3\n"
     ]
    }
   ],
   "source": [
    "#14. Find the length of the list `[10, 20, 30]` and print it.\n",
    "my_list=[10,20,30]\n",
    "print(\"lenght of the list is \",len(my_list))\n"
   ]
  },
  {
   "cell_type": "code",
   "execution_count": null,
   "id": "a7ce74ea-4aeb-4267-a0da-c4c7bae06455",
   "metadata": {},
   "outputs": [],
   "source": []
  },
  {
   "cell_type": "code",
   "execution_count": 45,
   "id": "76cc8eb5-6475-4d99-9af5-a015afc2fa13",
   "metadata": {},
   "outputs": [
    {
     "name": "stdout",
     "output_type": "stream",
     "text": [
      "[10, 20, 30, 40]\n"
     ]
    }
   ],
   "source": [
    "#15. Add the element `40` to the list `my_list = [10, 20, 30]` and print the updated list\n",
    "my_list = [10, 20, 30]\n",
    "my_list.append(40)\n",
    "print(my_list)"
   ]
  },
  {
   "cell_type": "code",
   "execution_count": 46,
   "id": "25ecda16-942b-44d2-a0e0-90dbe2a2d99e",
   "metadata": {},
   "outputs": [
    {
     "name": "stdout",
     "output_type": "stream",
     "text": [
      "1\n",
      "2\n",
      "3\n",
      "4\n",
      "5\n"
     ]
    }
   ],
   "source": [
    "#16. Write a `for` loop to print numbers from 1 to 5.\n",
    "for a in range(1,6):\n",
    " print(a)"
   ]
  },
  {
   "cell_type": "code",
   "execution_count": 47,
   "id": "8eaaa025-5b23-4a55-8f3f-4aa717b4b80a",
   "metadata": {},
   "outputs": [
    {
     "name": "stdout",
     "output_type": "stream",
     "text": [
      "3\n",
      "4\n",
      "5\n"
     ]
    }
   ],
   "source": [
    "#17. Write a `for` loop that prints numbers from 3 to 5.\n",
    "for a in range(3,6):\n",
    " print(a)"
   ]
  },
  {
   "cell_type": "code",
   "execution_count": 48,
   "id": "8dcb78ca-51e6-4375-b851-6b8b262ada11",
   "metadata": {},
   "outputs": [
    {
     "name": "stdout",
     "output_type": "stream",
     "text": [
      "apple\n",
      "banana\n",
      "cherry\n"
     ]
    }
   ],
   "source": [
    "#18. Write a `for` loop to iterate over a list `['apple', 'banana', 'cherry']` and print each element\n",
    "fruits=['apple', 'banana', 'cherry']\n",
    "for a in fruits:\n",
    "    print(a)"
   ]
  },
  {
   "cell_type": "code",
   "execution_count": 49,
   "id": "e0465ce7-db1b-4e25-9e03-07c3bc139b15",
   "metadata": {},
   "outputs": [
    {
     "name": "stdout",
     "output_type": "stream",
     "text": [
      "The square of 1 is 1\n",
      "The square of 2 is 4\n",
      "The square of 3 is 9\n",
      "The square of 4 is 16\n"
     ]
    }
   ],
   "source": [
    "#19. Write a `for` loop to print the squares of numbers from 1 to 4.\n",
    "for a in range(1, 5):\n",
    "    print(f\"The square of {a} is {a**2}\")"
   ]
  },
  {
   "cell_type": "code",
   "execution_count": 50,
   "id": "cf928731-ae48-415c-9478-14c4d62f06dc",
   "metadata": {},
   "outputs": [
    {
     "name": "stdout",
     "output_type": "stream",
     "text": [
      "0 * 2 = 0\n",
      "1 * 2 = 2\n",
      "2 * 2 = 4\n",
      "3 * 2 = 6\n",
      "4 * 2 = 8\n"
     ]
    }
   ],
   "source": [
    "#. 20. Write a `for` loop that prints `i * 2` for `i` in the range of 5.\n",
    "for i in range(5):\n",
    "    print(f\"{i} * 2 = {i * 2}\")"
   ]
  },
  {
   "cell_type": "code",
   "execution_count": 51,
   "id": "ea7220ec-eced-4849-8dd4-da9c5086f5a9",
   "metadata": {},
   "outputs": [
    {
     "name": "stdout",
     "output_type": "stream",
     "text": [
      "1\n",
      "2\n",
      "3\n",
      "4\n",
      "5\n"
     ]
    }
   ],
   "source": [
    "#21.Write a `while` loop that prints numbers from 1 to 5\n",
    "a=1\n",
    "while a<=5: #loop w condition\n",
    "   print(a)\n",
    "   a+=1"
   ]
  },
  {
   "cell_type": "code",
   "execution_count": 52,
   "id": "f629cb4a-ca53-4455-93fe-b8bb6e5d46a3",
   "metadata": {},
   "outputs": [
    {
     "name": "stdout",
     "output_type": "stream",
     "text": [
      "0\n",
      "1\n",
      "2\n",
      "3\n"
     ]
    }
   ],
   "source": [
    "#22. Create a `while` loop that prints the numbers from 0 to 3\n",
    "a=0\n",
    "while a<=3: #loop w condition\n",
    "   print(a)\n",
    "   a+=1"
   ]
  },
  {
   "cell_type": "code",
   "execution_count": 53,
   "id": "2f1c0e2f-71ba-44e1-9f8a-a46f6433936d",
   "metadata": {},
   "outputs": [
    {
     "name": "stdout",
     "output_type": "stream",
     "text": [
      "The sum of numbers from 1 to 10 is: 55\n"
     ]
    }
   ],
   "source": [
    "# 23. Write a `while` loop that calculates and prints the sum of numbers from 1 to 10\n",
    "number = 1\n",
    "total_sum = 0\n",
    "while number <= 10:\n",
    "    total_sum += number  # Add the current number to the total sum\n",
    "    number += 1 \n",
    "print(\"The sum of numbers from 1 to 10 is:\", total_sum)\n"
   ]
  },
  {
   "cell_type": "code",
   "execution_count": 56,
   "id": "3adcc75c-f6a1-45d1-ae53-c9d2e6f10bae",
   "metadata": {},
   "outputs": [
    {
     "name": "stdout",
     "output_type": "stream",
     "text": [
      "24\n"
     ]
    }
   ],
   "source": [
    "#24. Create a `while` loop that multiplies numbers from 1 to 4 and prints the result.\n",
    "n=1\n",
    "product=1\n",
    "while n<=4:\n",
    "    product*=n\n",
    "    n+=1\n",
    "print(product)\n"
   ]
  },
  {
   "cell_type": "code",
   "execution_count": 57,
   "id": "9677feab-aebb-4f55-84ed-38090a8d9b83",
   "metadata": {},
   "outputs": [
    {
     "name": "stdout",
     "output_type": "stream",
     "text": [
      "10\n",
      "9\n",
      "8\n",
      "7\n",
      "6\n",
      "5\n",
      "4\n",
      "3\n",
      "2\n",
      "1\n"
     ]
    }
   ],
   "source": [
    "#25. Write a `while` loop that prints numbers from 10 to 1, decrementing by 1 each time.\n",
    "a=10\n",
    "while a>0:\n",
    "  print(a)\n",
    "  a-=1"
   ]
  },
  {
   "cell_type": "code",
   "execution_count": 58,
   "id": "fdcc630f-eb0f-4d68-89ee-cb5e21be40bb",
   "metadata": {},
   "outputs": [
    {
     "name": "stdin",
     "output_type": "stream",
     "text": [
      "Enter a number:  2\n"
     ]
    },
    {
     "name": "stdout",
     "output_type": "stream",
     "text": [
      "The number is positive.\n"
     ]
    }
   ],
   "source": [
    "#26. Write a program that checks if a number is positive, negative, or zero\n",
    "number = float(input(\"Enter a number: \"))\n",
    "if number > 0:\n",
    "    print(\"The number is positive.\")\n",
    "elif number < 0:\n",
    "    print(\"The number is negative.\")\n",
    "else:\n",
    "    print(\"The number is zero.\")"
   ]
  },
  {
   "cell_type": "code",
   "execution_count": 59,
   "id": "8b99f9d4-5d6e-4e7f-bf10-820786686eeb",
   "metadata": {},
   "outputs": [
    {
     "name": "stdin",
     "output_type": "stream",
     "text": [
      "Enter a number:  6\n"
     ]
    },
    {
     "name": "stdout",
     "output_type": "stream",
     "text": [
      "The number is even.\n"
     ]
    }
   ],
   "source": [
    "# 27. Write a program that checks if a number is even or odd using `if-else\n",
    "#for even number \n",
    "number = int(input(\"Enter a number: \"))\n",
    "if number % 2 == 0:\n",
    "    print(\"The number is even.\")\n",
    "else:\n",
    "    print(\"The number is odd.\")\n",
    "    "
   ]
  },
  {
   "cell_type": "code",
   "execution_count": 60,
   "id": "7da15478-42a5-4fec-bc0a-bb391cf909b2",
   "metadata": {},
   "outputs": [
    {
     "name": "stdin",
     "output_type": "stream",
     "text": [
      "Enter a number:  3\n"
     ]
    },
    {
     "name": "stdout",
     "output_type": "stream",
     "text": [
      "The number is odd.\n"
     ]
    }
   ],
   "source": [
    "#For odd number \n",
    "number = int(input(\"Enter a number: \"))\n",
    "if number % 2 == 0:\n",
    "    print(\"The number is even.\")\n",
    "else:\n",
    "    print(\"The number is odd.\")"
   ]
  },
  {
   "cell_type": "code",
   "execution_count": 61,
   "id": "60da5ae7-8951-4d2e-991e-50adac36b58d",
   "metadata": {},
   "outputs": [
    {
     "name": "stdin",
     "output_type": "stream",
     "text": [
      "Enter a number:  15\n"
     ]
    },
    {
     "name": "stdout",
     "output_type": "stream",
     "text": [
      "Number is greater than 10\n"
     ]
    }
   ],
   "source": [
    "#28. Write a program that checks if a number is greater than 10 and print 'Greater', otherwise prints 'Smaller'.\n",
    "num=int(input('Enter a number: '))\n",
    "if num>10:\n",
    "        print('Number is greater than 10')\n",
    "else:\n",
    "        print('Number is smaller than 10')"
   ]
  },
  {
   "cell_type": "code",
   "execution_count": 62,
   "id": "c81aead6-8f30-477c-987c-e53cb7bf4c5a",
   "metadata": {},
   "outputs": [
    {
     "name": "stdin",
     "output_type": "stream",
     "text": [
      "Enter the score:  86\n"
     ]
    },
    {
     "name": "stdout",
     "output_type": "stream",
     "text": [
      "Grade: B\n"
     ]
    }
   ],
   "source": [
    "#29. Write a program that prints the grade based on a score: A (90-100), B(70-89), C (50-69), and D (0-49)\n",
    "score = int(input(\"Enter the score: \"))\n",
    "if score >= 90 and score <= 100:\n",
    "    print(\"Grade: A\")\n",
    "elif score >= 70 and score < 90:\n",
    "    print(\"Grade: B\")\n",
    "elif score >= 50 and score < 70:\n",
    "    print(\"Grade: C\")\n",
    "elif score >= 0 and score < 50:\n",
    "    print(\"Grade: D\")"
   ]
  },
  {
   "cell_type": "code",
   "execution_count": 63,
   "id": "49baa263-7172-47ed-9507-fd74fff9adf0",
   "metadata": {},
   "outputs": [
    {
     "name": "stdin",
     "output_type": "stream",
     "text": [
      "Enter a number:  15\n"
     ]
    },
    {
     "name": "stdout",
     "output_type": "stream",
     "text": [
      "Divisible\n"
     ]
    }
   ],
   "source": [
    "#30. Write a program that checks if a number is divisible by 5 and prints 'Divisible' or 'Not Divisible'\n",
    "number = int(input(\"Enter a number: \"))\n",
    "if number % 5 == 0:\n",
    "    print(\"Divisible\")\n",
    "else:\n",
    "    print(\"Not Divisible\")"
   ]
  },
  {
   "cell_type": "code",
   "execution_count": 65,
   "id": "913bb0ad-f39c-49c4-8cf4-e2359b8b5707",
   "metadata": {},
   "outputs": [
    {
     "name": "stdout",
     "output_type": "stream",
     "text": [
      "The sum of two number 60\n"
     ]
    }
   ],
   "source": [
    "#31. Write a function `add_numbers(a, b)` that returns the sum of two numbers.\n",
    "def add_number(a,b):\n",
    "  return(a+b)\n",
    "a_sum=add_number(56,4)\n",
    "print(\"The sum of two number\",a_sum)"
   ]
  },
  {
   "cell_type": "code",
   "execution_count": 66,
   "id": "a217e2ca-16b6-49de-82f0-5708013f3a4c",
   "metadata": {},
   "outputs": [
    {
     "name": "stdout",
     "output_type": "stream",
     "text": [
      "hseniD\n"
     ]
    }
   ],
   "source": [
    "#32. Write a function that takes a string as input and prints it in reverse order.\n",
    "def reverse_string(input_string):\n",
    "    print(input_string[::-1])#slicing method\n",
    "reverse_string(\"Dinesh\")"
   ]
  },
  {
   "cell_type": "code",
   "execution_count": 67,
   "id": "cea3fdf9-43d2-42f1-8fc2-318fb27e8864",
   "metadata": {},
   "outputs": [
    {
     "name": "stdout",
     "output_type": "stream",
     "text": [
      "The max of three number 150\n"
     ]
    }
   ],
   "source": [
    "# 33. Write a function that returns the maximum of three numbers\n",
    "def max_of_three(a, b, c):\n",
    "    return max(a, b, c)\n",
    "result=max_of_three(50,150,100)\n",
    "print(\"The max of three number\",result)"
   ]
  },
  {
   "cell_type": "code",
   "execution_count": 68,
   "id": "a9e2501e-de83-4e9b-bdbb-0d88e2af2e74",
   "metadata": {},
   "outputs": [
    {
     "data": {
      "text/plain": [
       "72"
      ]
     },
     "execution_count": 68,
     "metadata": {},
     "output_type": "execute_result"
    }
   ],
   "source": [
    "#35. Write a function `multiply(a, b)` that returns the product of two numbers and prints the result\n",
    "def multiply(a, b):\n",
    "    return(a*b)\n",
    "\n",
    "multiply(8,9)"
   ]
  },
  {
   "cell_type": "code",
   "execution_count": 71,
   "id": "7be6a659-afbc-4fe4-84a3-da139c690315",
   "metadata": {},
   "outputs": [
    {
     "data": {
      "text/plain": [
       "8"
      ]
     },
     "execution_count": 71,
     "metadata": {},
     "output_type": "execute_result"
    }
   ],
   "source": [
    "#36. Write a lambda function that adds two numbers and prints the result.\n",
    "add = lambda a, b: a+b\n",
    "add(5, 3)"
   ]
  },
  {
   "cell_type": "code",
   "execution_count": 72,
   "id": "c06de5ae-8a47-4589-9216-2ba838ba7973",
   "metadata": {},
   "outputs": [
    {
     "data": {
      "text/plain": [
       "16"
      ]
     },
     "execution_count": 72,
     "metadata": {},
     "output_type": "execute_result"
    }
   ],
   "source": [
    "#37. Use a lambda function to square a number and print the result.\n",
    "square_number = lambda a:a*a\n",
    "square_number(4)"
   ]
  },
  {
   "cell_type": "code",
   "execution_count": 73,
   "id": "ab5226f6-a563-460a-9c98-18358c787854",
   "metadata": {},
   "outputs": [
    {
     "data": {
      "text/plain": [
       "27"
      ]
     },
     "execution_count": 73,
     "metadata": {},
     "output_type": "execute_result"
    }
   ],
   "source": [
    "#38. Write a lambda function to find the cube of a number and call it with the value `3`\n",
    "cube = lambda x: x ** 3\n",
    "cube(3)"
   ]
  },
  {
   "cell_type": "code",
   "execution_count": 2,
   "id": "0ab63e38-21d7-49a5-b271-285c309950d3",
   "metadata": {},
   "outputs": [
    {
     "name": "stdout",
     "output_type": "stream",
     "text": [
      "[2, 4, 6]\n"
     ]
    }
   ],
   "source": [
    "#39. Write a lambda function that filters even numbers from the list `[1, 2, 3, 4, 5, 6]`.\n",
    "numbers = [1, 2, 3, 4, 5, 6]\n",
    "even_numbers = list(filter(lambda x: x % 2 == 0, numbers))\n",
    "print(even_numbers)"
   ]
  },
  {
   "cell_type": "code",
   "execution_count": null,
   "id": "80a55238-3a33-473d-9459-359b7b4f59cd",
   "metadata": {},
   "outputs": [],
   "source": []
  },
  {
   "cell_type": "code",
   "execution_count": 3,
   "id": "5b249d6c-b4bb-45f5-b3e7-21546ab45265",
   "metadata": {},
   "outputs": [
    {
     "name": "stdout",
     "output_type": "stream",
     "text": [
      "True\n",
      "False\n",
      "False\n"
     ]
    }
   ],
   "source": [
    "#40. Write a lambda function to check if a number is positive and return `True` or `False`.\n",
    "positive=lambda x:x>0 \n",
    "\n",
    "print(positive(4))\n",
    "print(positive(-5))\n",
    "print(positive(0))"
   ]
  },
  {
   "cell_type": "code",
   "execution_count": 4,
   "id": "ccb2b7c7-542e-41bd-92d9-20a3d0bf466a",
   "metadata": {},
   "outputs": [
    {
     "name": "stdout",
     "output_type": "stream",
     "text": [
      "[2, 4, 6, 8]\n"
     ]
    }
   ],
   "source": [
    "#41. Write a program that multiplies each number in the list `[1, 2, 3, 4]` by 2 using `map()`.\n",
    "numbers = [1, 2, 3, 4]\n",
    "multiplied_numbers = list(map(lambda x: x * 2, numbers))\n",
    "print(multiplied_numbers)"
   ]
  },
  {
   "cell_type": "code",
   "execution_count": 5,
   "id": "c15ee338-4c05-4bac-a31e-200481f9bb5f",
   "metadata": {},
   "outputs": [
    {
     "name": "stdout",
     "output_type": "stream",
     "text": [
      "[1, 4, 9, 16, 25]\n"
     ]
    }
   ],
   "source": [
    "#42. Use `map()` to square each number in the list `[1, 2, 3, 4, 5]` and print the result\n",
    "numbers = [1, 2, 3, 4, 5]\n",
    "squared_numbers = list(map(lambda x: x ** 2, numbers))\n",
    "print(squared_numbers)\n"
   ]
  },
  {
   "cell_type": "code",
   "execution_count": 6,
   "id": "74a7413a-ff4f-4d0c-9688-a98d38493a22",
   "metadata": {},
   "outputs": [
    {
     "name": "stdout",
     "output_type": "stream",
     "text": [
      "[1, 2, 3]\n"
     ]
    }
   ],
   "source": [
    "#43. Write a program that uses `map()` to convert a list of strings `['1', '2', '3']`  into a list of integers\n",
    "# List of strings\n",
    "string_list = ['1', '2', '3']\n",
    "integer_list = list(map(int, string_list))\n",
    "print(integer_list)\n"
   ]
  },
  {
   "cell_type": "code",
   "execution_count": 7,
   "id": "acb13f21-c1fc-4626-9da4-5b78eddfe380",
   "metadata": {},
   "outputs": [
    {
     "name": "stdout",
     "output_type": "stream",
     "text": [
      "[1, 16, 81, 256]\n"
     ]
    }
   ],
   "source": [
    "#44. Use `map()` to calculate the square of each element in the list `[1, 4, 9,16]` and print the result\n",
    "num = [1, 4, 9, 16]\n",
    "result = list(map(lambda x: x**2, num))\n",
    "print(result)\n"
   ]
  },
  {
   "cell_type": "code",
   "execution_count": 8,
   "id": "50309a08-1227-4c75-b511-d5fc36e70781",
   "metadata": {},
   "outputs": [
    {
     "name": "stdout",
     "output_type": "stream",
     "text": [
      "['DINESH', 'SONKUSARE']\n"
     ]
    }
   ],
   "source": [
    "#. 45. Write a program that uses `map()` to capitalize each word in the list`['hello', 'world']`.\n",
    "words = ['dinesh', 'sonkusare']\n",
    "capitalized_words = list(map(lambda x: x.upper(), words))\n",
    "\n",
    "# Print the result\n",
    "print(capitalized_words)\n"
   ]
  },
  {
   "cell_type": "code",
   "execution_count": 10,
   "id": "3734a619-3f93-45fd-81a2-0708a18c17b3",
   "metadata": {},
   "outputs": [
    {
     "name": "stdout",
     "output_type": "stream",
     "text": [
      "[2, 4, 6]\n"
     ]
    }
   ],
   "source": [
    "#46. Write a program that uses `filter()` to get only the even numbers from the list `[1, 2, 3, 4, 5, 6]`\n",
    "numbers = [1, 2, 3, 4, 5, 6,]\n",
    "even_numbers = list(filter(lambda x: x % 2 == 0, numbers))\n",
    "print(even_numbers)"
   ]
  },
  {
   "cell_type": "code",
   "execution_count": 11,
   "id": "608c9f3a-9e9d-4e01-8bc2-58dce002e457",
   "metadata": {},
   "outputs": [
    {
     "name": "stdout",
     "output_type": "stream",
     "text": [
      "[4, 5]\n"
     ]
    }
   ],
   "source": [
    "#47. Write a program that filters numbers greater than 3 from the list `[1, 2, 3, 4, 5]` using `filter()`.\n",
    "numbers = [1, 2, 3, 4, 5]\n",
    "greater_than_three = list(filter(lambda x: x > 3, numbers))\n",
    "print(greater_than_three)"
   ]
  },
  {
   "cell_type": "code",
   "execution_count": 12,
   "id": "c4aaaeba-1711-4cd8-be57-7a6e50a476bf",
   "metadata": {},
   "outputs": [
    {
     "name": "stdout",
     "output_type": "stream",
     "text": [
      "['Jack', 'Alice']\n"
     ]
    }
   ],
   "source": [
    "#48. Use `filter()` to get all names longer than 3 characters from the list`['Tom', 'Jack', 'Bob', 'Alice']`.\n",
    "names = ['Tom', 'Jack', 'Bob', 'Alice']\n",
    "long_names = list(filter(lambda x: len(x) > 3, names))\n",
    "print(long_names)"
   ]
  },
  {
   "cell_type": "code",
   "execution_count": 14,
   "id": "22fefb06-f385-4551-9228-a0b4b7443ff0",
   "metadata": {},
   "outputs": [
    {
     "name": "stdout",
     "output_type": "stream",
     "text": [
      "[-1, -2, -5]\n"
     ]
    }
   ],
   "source": [
    "# 49. Write a program that filters out negative numbers from the list `[-1, -2, 3, 4, -5]`.\n",
    "list_number = [-1, -2, 3, 4, -5]\n",
    "result9 = list(filter(lambda x: x<0, list_number))\n",
    "print(result9)\n"
   ]
  },
  {
   "cell_type": "code",
   "execution_count": 16,
   "id": "75169af3-3ac7-447d-9fda-fe0c46a60086",
   "metadata": {},
   "outputs": [
    {
     "name": "stdout",
     "output_type": "stream",
     "text": [
      "[3, 6]\n"
     ]
    }
   ],
   "source": [
    "# 50. Use `filter()` to find all numbers divisible by 3 from the list `[1, 2, 3, 4, 5,6]`.\n",
    "numbers = [1, 2, 3, 4, 5, 6]\n",
    "divisible_by_three = list(filter(lambda x: x % 3 == 0, numbers))\n",
    "print(divisible_by_three)"
   ]
  },
  {
   "cell_type": "code",
   "execution_count": 17,
   "id": "78684fe5-729b-46d7-b35a-e7e52739e231",
   "metadata": {},
   "outputs": [
    {
     "name": "stdout",
     "output_type": "stream",
     "text": [
      "1\n",
      "2\n"
     ]
    }
   ],
   "source": [
    "# 51. Write a program that prints numbers from 1 to 5, but breaks the loop when it reaches 3.\n",
    "for i in range(1, 6):\n",
    "    if i == 3:\n",
    "        break\n",
    "    print(i)"
   ]
  },
  {
   "cell_type": "code",
   "execution_count": 18,
   "id": "db15930c-a95b-4ae2-8df4-339e80ef08e7",
   "metadata": {},
   "outputs": [
    {
     "name": "stdout",
     "output_type": "stream",
     "text": [
      "1\n",
      "2\n",
      "4\n",
      "5\n"
     ]
    }
   ],
   "source": [
    "#52. Write a program that prints numbers from 1 to 5, but skips 3 using continue`.\n",
    "for i in range(1,6):\n",
    "    if i==3:\n",
    "        continue\n",
    "    print(i)"
   ]
  },
  {
   "cell_type": "code",
   "execution_count": 19,
   "id": "a370e85e-e4d1-418b-a98a-a5e58443c140",
   "metadata": {},
   "outputs": [
    {
     "name": "stdout",
     "output_type": "stream",
     "text": [
      "1\n",
      "2\n",
      "3\n",
      "4\n"
     ]
    }
   ],
   "source": [
    "#53. Write a program that prints numbers from 1 to 5, but stops when the number is greater than 4 using `break`.\n",
    "for i in range(1,6):\n",
    "    if i>4:\n",
    "        break\n",
    "    print(i)\n"
   ]
  },
  {
   "cell_type": "code",
   "execution_count": 21,
   "id": "ece3a6d8-6259-43f4-837d-ec20d79af7b0",
   "metadata": {},
   "outputs": [
    {
     "name": "stdout",
     "output_type": "stream",
     "text": [
      "2\n",
      "4\n",
      "6\n",
      "8\n",
      "10\n"
     ]
    }
   ],
   "source": [
    "#54. Write a program that prints all the even numbers from 1 to 10, using continue` to skip odd numbers\n",
    "for i in range(1,11):\n",
    "    if i%2==1:\n",
    "        continue\n",
    "    print(i)"
   ]
  },
  {
   "cell_type": "code",
   "execution_count": 22,
   "id": "314c8a70-f61f-494f-8364-a1f2495616b7",
   "metadata": {},
   "outputs": [
    {
     "name": "stdout",
     "output_type": "stream",
     "text": [
      "1\n",
      "2\n",
      "3\n"
     ]
    }
   ],
   "source": [
    "#55. Create a loop that breaks when a negative number is encountered in the list `[1, 2, 3, -1, 4]`.\n",
    "list = [1, 2, 3, -1, 4]\n",
    "for i in list:\n",
    "  if i<0:\n",
    "    break\n",
    "  print(i)\n"
   ]
  },
  {
   "cell_type": "code",
   "execution_count": 23,
   "id": "11483a6b-b8d4-4686-97f2-c26477cb0d02",
   "metadata": {},
   "outputs": [
    {
     "name": "stdout",
     "output_type": "stream",
     "text": [
      "0 apple\n",
      "1 banana\n",
      "2 cherry\n"
     ]
    }
   ],
   "source": [
    "#56. Write a program that uses `enumerate()` to print the index and value of each element in the list `['apple', 'banana', 'cherry']`.\n",
    "fruits = ['apple','banana','cherry']\n",
    "for index, value in enumerate(fruits):\n",
    "  print(index, value)\n"
   ]
  },
  {
   "cell_type": "code",
   "execution_count": 83,
   "id": "29a1d781-a730-4993-9923-11f21e00acc9",
   "metadata": {},
   "outputs": [
    {
     "ename": "TypeError",
     "evalue": "'list' object is not callable",
     "output_type": "error",
     "traceback": [
      "\u001b[1;31m---------------------------------------------------------------------------\u001b[0m",
      "\u001b[1;31mTypeError\u001b[0m                                 Traceback (most recent call last)",
      "Cell \u001b[1;32mIn[83], line 4\u001b[0m\n\u001b[0;32m      2\u001b[0m list1 \u001b[38;5;241m=\u001b[39m [\u001b[38;5;124m'\u001b[39m\u001b[38;5;124mapple\u001b[39m\u001b[38;5;124m'\u001b[39m, \u001b[38;5;124m'\u001b[39m\u001b[38;5;124mbanana\u001b[39m\u001b[38;5;124m'\u001b[39m]\n\u001b[0;32m      3\u001b[0m list2 \u001b[38;5;241m=\u001b[39m [\u001b[38;5;241m1\u001b[39m, \u001b[38;5;241m2\u001b[39m]\n\u001b[1;32m----> 4\u001b[0m zipped_result \u001b[38;5;241m=\u001b[39m \u001b[38;5;28mlist\u001b[39m(\u001b[38;5;28mzip\u001b[39m(list1, list2))\n\u001b[0;32m      5\u001b[0m \u001b[38;5;28mprint\u001b[39m(zipped_result)\n",
      "\u001b[1;31mTypeError\u001b[0m: 'list' object is not callable"
     ]
    }
   ],
   "source": [
    "#58. Write a program that zips two lists `['apple', 'banana']` and `[1, 2]` and prints the result.\n",
    "list1 = ['apple', 'banana']\n",
    "list2 = [1, 2]\n",
    "zipped_result = list(zip(list1, list2))\n",
    "print(zipped_result)"
   ]
  },
  {
   "cell_type": "code",
   "execution_count": 76,
   "id": "aed423b2-67ef-463a-84c7-b171c66baaa9",
   "metadata": {},
   "outputs": [
    {
     "data": {
      "text/plain": [
       "[5, 7, 9]"
      ]
     },
     "execution_count": 76,
     "metadata": {},
     "output_type": "execute_result"
    }
   ],
   "source": [
    "#59. Write a program to find the sum of corresponding elements in two lists `a = [1, 2, 3]` and `b = [4, 5, 6]` using `zip()`.\n",
    "a = [1, 2, 3]\n",
    "b = [4, 5, 6]\n",
    "list_sum=[i+j for i,j in zip(a,b)]\n",
    "list_sum"
   ]
  },
  {
   "cell_type": "code",
   "execution_count": 75,
   "id": "b4c662fe-29d3-4de9-b4c7-dfcac88d1aef",
   "metadata": {},
   "outputs": [
    {
     "name": "stdout",
     "output_type": "stream",
     "text": [
      "(0, 'prachi')\n",
      "(1, 'sakshi')\n",
      "(2, 'pooja')\n",
      "(3, 'poonam')\n",
      "(4, 'ayushi')\n"
     ]
    }
   ],
   "source": [
    "#60. Use `enumerate()` to loop over a list of names and print each name with its index.\n",
    "names=['prachi','sakshi','pooja','poonam','ayushi']\n",
    "for i in enumerate(names):\n",
    "    print(i)"
   ]
  },
  {
   "cell_type": "code",
   "execution_count": null,
   "id": "eb33fde6-4d95-4c0c-9af3-9ac1075ad8d9",
   "metadata": {},
   "outputs": [],
   "source": []
  }
 ],
 "metadata": {
  "kernelspec": {
   "display_name": "Python 3 (ipykernel)",
   "language": "python",
   "name": "python3"
  },
  "language_info": {
   "codemirror_mode": {
    "name": "ipython",
    "version": 3
   },
   "file_extension": ".py",
   "mimetype": "text/x-python",
   "name": "python",
   "nbconvert_exporter": "python",
   "pygments_lexer": "ipython3",
   "version": "3.12.7"
  }
 },
 "nbformat": 4,
 "nbformat_minor": 5
}
