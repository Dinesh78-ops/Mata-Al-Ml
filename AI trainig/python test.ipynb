{
 "cells": [
  {
   "cell_type": "code",
   "execution_count": null,
   "id": "7dddb942-fd58-4cbf-9593-9f74e017fe5e",
   "metadata": {},
   "outputs": [],
   "source": [
    "#1. Write a Python expression to calculate the area of a circle with radius r = 7.\n"
   ]
  },
  {
   "cell_type": "code",
   "execution_count": null,
   "id": "344e7a2f-9128-45bd-95d6-173aa603371e",
   "metadata": {},
   "outputs": [],
   "source": [
    "#radius r = 7.\n"
   ]
  },
  {
   "cell_type": "code",
   "execution_count": 1,
   "id": "9c4da111-a4ec-4691-9706-c198b6f9f512",
   "metadata": {},
   "outputs": [],
   "source": [
    "r=7"
   ]
  },
  {
   "cell_type": "code",
   "execution_count": null,
   "id": "a2d2d0c4-d5f2-499b-900c-2d5cfcd3db1f",
   "metadata": {},
   "outputs": [],
   "source": [
    "# value of Pi\n"
   ]
  },
  {
   "cell_type": "code",
   "execution_count": 4,
   "id": "fc8f722f-1102-4b5b-bc50-7cb10d6a5671",
   "metadata": {},
   "outputs": [],
   "source": [
    "pi = 3.14159\n"
   ]
  },
  {
   "cell_type": "code",
   "execution_count": null,
   "id": "210c3d98-5889-4c42-b3cf-3acf24fea8c1",
   "metadata": {},
   "outputs": [],
   "source": [
    "# Calculate the area\n"
   ]
  },
  {
   "cell_type": "code",
   "execution_count": 6,
   "id": "adeea3be-14ef-42ee-89df-6b8c745cc1a1",
   "metadata": {},
   "outputs": [],
   "source": [
    "area = pi * (r ** 2)\n"
   ]
  },
  {
   "cell_type": "code",
   "execution_count": 7,
   "id": "7ff30076-1307-447a-8c62-513ea6f7b9aa",
   "metadata": {},
   "outputs": [
    {
     "data": {
      "text/plain": [
       "153.93791"
      ]
     },
     "execution_count": 7,
     "metadata": {},
     "output_type": "execute_result"
    }
   ],
   "source": [
    "area"
   ]
  },
  {
   "cell_type": "code",
   "execution_count": null,
   "id": "fda1d995-d486-4fd6-a7a8-4a7a6501e419",
   "metadata": {},
   "outputs": [],
   "source": []
  },
  {
   "cell_type": "code",
   "execution_count": null,
   "id": "abdeb1ae-8384-4bb2-a8d5-503fbc5fb49a",
   "metadata": {},
   "outputs": [],
   "source": [
    "#2. What will be the output of the expression 2 * 3 + 4?\n"
   ]
  },
  {
   "cell_type": "code",
   "execution_count": 8,
   "id": "6ec11e82-55ef-42a0-8007-97983130fe5e",
   "metadata": {},
   "outputs": [],
   "source": [
    "a=2*3+4"
   ]
  },
  {
   "cell_type": "code",
   "execution_count": 9,
   "id": "88df820d-e624-40d8-adb6-cbaba0f44cdb",
   "metadata": {},
   "outputs": [
    {
     "data": {
      "text/plain": [
       "10"
      ]
     },
     "execution_count": 9,
     "metadata": {},
     "output_type": "execute_result"
    }
   ],
   "source": [
    "a"
   ]
  },
  {
   "cell_type": "code",
   "execution_count": null,
   "id": "67f771fd-bc05-46b7-83c2-919e3b02b190",
   "metadata": {},
   "outputs": [],
   "source": []
  },
  {
   "cell_type": "code",
   "execution_count": null,
   "id": "6734d370-4edf-4565-a9c3-9e41a00d31a8",
   "metadata": {},
   "outputs": [],
   "source": [
    "#3. Calculate the result of (8 / 2) * (3 + 2).\n"
   ]
  },
  {
   "cell_type": "code",
   "execution_count": 10,
   "id": "546bd682-166d-4aca-9534-8793e0561ea7",
   "metadata": {},
   "outputs": [],
   "source": [
    "a=(8 / 2) * (3 + 2)"
   ]
  },
  {
   "cell_type": "code",
   "execution_count": 11,
   "id": "f52ed656-8f6f-4dce-9b93-cd2dbbdfb836",
   "metadata": {},
   "outputs": [
    {
     "data": {
      "text/plain": [
       "20.0"
      ]
     },
     "execution_count": 11,
     "metadata": {},
     "output_type": "execute_result"
    }
   ],
   "source": [
    "a"
   ]
  },
  {
   "cell_type": "code",
   "execution_count": null,
   "id": "46a5ea7e-9ac7-4daa-b076-899441ddd850",
   "metadata": {},
   "outputs": [],
   "source": []
  },
  {
   "cell_type": "code",
   "execution_count": null,
   "id": "66da9d9c-83c3-491f-84d2-91c8637d52fe",
   "metadata": {},
   "outputs": [],
   "source": [
    "#4. Write an expression to find the remainder when 15 is divided by 4.\n"
   ]
  },
  {
   "cell_type": "code",
   "execution_count": 12,
   "id": "819be274-7a39-4e58-a848-b677045409d0",
   "metadata": {},
   "outputs": [],
   "source": [
    "a=15/4"
   ]
  },
  {
   "cell_type": "code",
   "execution_count": 17,
   "id": "8de788c1-702d-4d5d-8304-9f3b5f30b34a",
   "metadata": {
    "scrolled": true
   },
   "outputs": [
    {
     "data": {
      "text/plain": [
       "3.75"
      ]
     },
     "execution_count": 17,
     "metadata": {},
     "output_type": "execute_result"
    }
   ],
   "source": [
    "a"
   ]
  },
  {
   "cell_type": "code",
   "execution_count": null,
   "id": "784ab6ca-a683-47ea-8e96-a4ce8ecba771",
   "metadata": {},
   "outputs": [],
   "source": []
  },
  {
   "cell_type": "code",
   "execution_count": null,
   "id": "3a91963d-6285-4b6d-8282-4a63a82aabb2",
   "metadata": {},
   "outputs": [],
   "source": [
    "# Write a Python expression to convert 100 Fahrenheit to Celsius using the formula: C = (F - 32) *\n",
    "5/9."
   ]
  },
  {
   "cell_type": "code",
   "execution_count": null,
   "id": "92803fc5-db3b-49d4-9947-18f10abc7874",
   "metadata": {},
   "outputs": [],
   "source": [
    "#Fahrenheit F=100"
   ]
  },
  {
   "cell_type": "code",
   "execution_count": 14,
   "id": "7831e892-da16-45d8-af5f-f45d12effeb6",
   "metadata": {},
   "outputs": [],
   "source": [
    "F=100"
   ]
  },
  {
   "cell_type": "code",
   "execution_count": 15,
   "id": "8e7b5fc9-f75d-4239-8186-4ed82b3c0ba3",
   "metadata": {},
   "outputs": [],
   "source": [
    " C = (F - 32) *5/9\n"
   ]
  },
  {
   "cell_type": "code",
   "execution_count": 16,
   "id": "93c20eb4-ce63-4ef9-ae1b-36ee8cceac8e",
   "metadata": {},
   "outputs": [
    {
     "data": {
      "text/plain": [
       "37.77777777777778"
      ]
     },
     "execution_count": 16,
     "metadata": {},
     "output_type": "execute_result"
    }
   ],
   "source": [
    "C"
   ]
  },
  {
   "cell_type": "code",
   "execution_count": null,
   "id": "ac867843-7bc9-4fca-863d-b29a040a9438",
   "metadata": {},
   "outputs": [],
   "source": []
  },
  {
   "cell_type": "code",
   "execution_count": null,
   "id": "9d76b029-2afd-418e-90be-c1d5c756bd17",
   "metadata": {},
   "outputs": [],
   "source": [
    "#6. Evaluate the expression: 10 // 3 + 2 ** 3.\n"
   ]
  },
  {
   "cell_type": "code",
   "execution_count": 18,
   "id": "b5e6ee11-0e22-4d37-8c82-257da854cf51",
   "metadata": {},
   "outputs": [],
   "source": [
    "a= 10 // 3 + 2 ** 3\n"
   ]
  },
  {
   "cell_type": "code",
   "execution_count": 19,
   "id": "46bf41b0-c9fc-437e-8e23-b6ae9efd58b8",
   "metadata": {},
   "outputs": [
    {
     "data": {
      "text/plain": [
       "11"
      ]
     },
     "execution_count": 19,
     "metadata": {},
     "output_type": "execute_result"
    }
   ],
   "source": [
    "a"
   ]
  },
  {
   "cell_type": "code",
   "execution_count": null,
   "id": "efb5d954-519e-454f-bc6e-8ebe33bb4583",
   "metadata": {},
   "outputs": [],
   "source": []
  },
  {
   "cell_type": "code",
   "execution_count": null,
   "id": "d62e6039-4b89-426a-bae8-47191239fab0",
   "metadata": {},
   "outputs": [],
   "source": [
    "#8. What is the output of not (4 > 5 or 3 == 3)?\n"
   ]
  },
  {
   "cell_type": "code",
   "execution_count": 23,
   "id": "07c4a0b4-e924-42eb-a99a-51bfc760c815",
   "metadata": {},
   "outputs": [],
   "source": [
    "a=not (4 > 5 or 3 == 3)\n"
   ]
  },
  {
   "cell_type": "code",
   "execution_count": 24,
   "id": "1ab33c6c-382e-4e48-8f2e-b936c11b587c",
   "metadata": {},
   "outputs": [
    {
     "data": {
      "text/plain": [
       "False"
      ]
     },
     "execution_count": 24,
     "metadata": {},
     "output_type": "execute_result"
    }
   ],
   "source": [
    "a"
   ]
  },
  {
   "cell_type": "code",
   "execution_count": null,
   "id": "cf5d6325-176b-4df8-9d59-741feef8e88e",
   "metadata": {},
   "outputs": [],
   "source": []
  },
  {
   "cell_type": "code",
   "execution_count": null,
   "id": "3929675c-cf78-464c-b4f8-be91da9e3e96",
   "metadata": {},
   "outputs": [],
   "source": [
    "#Data Types\n"
   ]
  },
  {
   "cell_type": "code",
   "execution_count": null,
   "id": "e9d992b5-e494-4191-8bda-14865b837ad7",
   "metadata": {},
   "outputs": [],
   "source": [
    "#10. What is the type of the value 5.0?\n"
   ]
  },
  {
   "cell_type": "code",
   "execution_count": 30,
   "id": "62b3ad2a-c5af-434b-a6a9-a784de3793dd",
   "metadata": {},
   "outputs": [],
   "source": [
    "a=5.0"
   ]
  },
  {
   "cell_type": "code",
   "execution_count": 26,
   "id": "0089d2a3-f578-4513-bee7-2514a2597660",
   "metadata": {},
   "outputs": [
    {
     "data": {
      "text/plain": [
       "float"
      ]
     },
     "execution_count": 26,
     "metadata": {},
     "output_type": "execute_result"
    }
   ],
   "source": [
    "type(a)"
   ]
  },
  {
   "cell_type": "code",
   "execution_count": null,
   "id": "56cac000-346f-47b9-b38d-ba592136f567",
   "metadata": {},
   "outputs": [],
   "source": []
  },
  {
   "cell_type": "code",
   "execution_count": null,
   "id": "2b33a1c4-8339-4ddc-b001-06b4a800d8a0",
   "metadata": {},
   "outputs": [],
   "source": [
    "#11. How do you convert the integer 42 to a string?\n"
   ]
  },
  {
   "cell_type": "code",
   "execution_count": 27,
   "id": "4f82e8f7-54b3-4263-85b1-85ace36f6431",
   "metadata": {},
   "outputs": [],
   "source": [
    "a=42"
   ]
  },
  {
   "cell_type": "code",
   "execution_count": 28,
   "id": "17a16c63-f8be-4594-b100-71b093eb314b",
   "metadata": {},
   "outputs": [],
   "source": [
    "num_a=str(a)"
   ]
  },
  {
   "cell_type": "code",
   "execution_count": 29,
   "id": "1272a31c-26fd-4b30-b540-97fec04cf679",
   "metadata": {},
   "outputs": [
    {
     "data": {
      "text/plain": [
       "42"
      ]
     },
     "execution_count": 29,
     "metadata": {},
     "output_type": "execute_result"
    }
   ],
   "source": [
    "a"
   ]
  },
  {
   "cell_type": "code",
   "execution_count": null,
   "id": "be9c125e-3842-4c5a-9cb7-61a8ab77c5d2",
   "metadata": {},
   "outputs": [],
   "source": []
  },
  {
   "cell_type": "code",
   "execution_count": null,
   "id": "f6930229-337e-45d9-8850-6398f275a117",
   "metadata": {},
   "outputs": [],
   "source": [
    "#12. What will the expression str(3.14) + ' is pi' output?\n"
   ]
  },
  {
   "cell_type": "code",
   "execution_count": 31,
   "id": "90a13ca8-ffc5-4dc6-8ecb-87d5b8cb2bd8",
   "metadata": {},
   "outputs": [],
   "source": [
    "a= str(3.14) + ' is pi'"
   ]
  },
  {
   "cell_type": "code",
   "execution_count": 32,
   "id": "1c51fbbc-4da3-4229-bb45-37bf68838401",
   "metadata": {},
   "outputs": [
    {
     "data": {
      "text/plain": [
       "'3.14 is pi'"
      ]
     },
     "execution_count": 32,
     "metadata": {},
     "output_type": "execute_result"
    }
   ],
   "source": [
    "a"
   ]
  },
  {
   "cell_type": "code",
   "execution_count": null,
   "id": "fddd2f45-f66c-452e-848c-0693abbce6e9",
   "metadata": {},
   "outputs": [],
   "source": []
  },
  {
   "cell_type": "code",
   "execution_count": null,
   "id": "8e85c72c-f648-40d4-9c36-5534aeabf540",
   "metadata": {},
   "outputs": [],
   "source": [
    "#13. What is the output type of the expression 4 + 3.5?\n"
   ]
  },
  {
   "cell_type": "code",
   "execution_count": 33,
   "id": "620094df-9ccf-44ef-8d5b-ffc95e19e1fb",
   "metadata": {},
   "outputs": [],
   "source": [
    "a=4+3.5"
   ]
  },
  {
   "cell_type": "code",
   "execution_count": 34,
   "id": "9d565e68-fbb2-401f-9d69-2f85d83a1c1f",
   "metadata": {},
   "outputs": [
    {
     "data": {
      "text/plain": [
       "7.5"
      ]
     },
     "execution_count": 34,
     "metadata": {},
     "output_type": "execute_result"
    }
   ],
   "source": [
    "a"
   ]
  },
  {
   "cell_type": "code",
   "execution_count": 35,
   "id": "6ab76d19-2663-4fc2-bc7d-e0554d0024ee",
   "metadata": {},
   "outputs": [
    {
     "data": {
      "text/plain": [
       "float"
      ]
     },
     "execution_count": 35,
     "metadata": {},
     "output_type": "execute_result"
    }
   ],
   "source": [
    "type(a)"
   ]
  },
  {
   "cell_type": "code",
   "execution_count": null,
   "id": "222860b8-a0a6-434d-8b1c-b566de4a3d74",
   "metadata": {},
   "outputs": [],
   "source": []
  },
  {
   "cell_type": "code",
   "execution_count": null,
   "id": "64287330-d128-47b7-a7a2-5e0a089a27fb",
   "metadata": {},
   "outputs": [],
   "source": [
    "#Data Structures - Lists, Tuples, Sets, and Dictionaries\n"
   ]
  },
  {
   "cell_type": "code",
   "execution_count": null,
   "id": "5c73a274-06a5-4f72-9aab-3099029f2f16",
   "metadata": {},
   "outputs": [],
   "source": [
    "#17. How do you create an empty list in Python?"
   ]
  },
  {
   "cell_type": "code",
   "execution_count": null,
   "id": "3c2bd499-50c4-4a7a-afa3-5adc3dd61a76",
   "metadata": {},
   "outputs": [],
   "source": [
    "# Create an empty list"
   ]
  },
  {
   "cell_type": "code",
   "execution_count": 37,
   "id": "0728a9fa-5a72-44e5-8714-7f73ce408dc0",
   "metadata": {},
   "outputs": [],
   "source": [
    "empty_list = []"
   ]
  },
  {
   "cell_type": "code",
   "execution_count": 39,
   "id": "afcc0779-0084-4fcb-ae09-f6acf2155bcf",
   "metadata": {},
   "outputs": [
    {
     "name": "stdout",
     "output_type": "stream",
     "text": [
      " empty list is: []\n"
     ]
    }
   ],
   "source": [
    "print(\" empty list is:\", empty_list)"
   ]
  },
  {
   "cell_type": "code",
   "execution_count": null,
   "id": "c2d7dc3c-c72f-4633-b867-d7c4927df698",
   "metadata": {},
   "outputs": [],
   "source": []
  },
  {
   "cell_type": "code",
   "execution_count": null,
   "id": "1ad6b825-bb3c-4a4f-b39a-febec876bfea",
   "metadata": {},
   "outputs": [],
   "source": [
    "#18. Write code to add an element 42 to the end of the list [1, 2, 3].\n"
   ]
  },
  {
   "cell_type": "code",
   "execution_count": 40,
   "id": "4de537f3-ffe3-4e4a-be07-dbcdbe164c78",
   "metadata": {},
   "outputs": [],
   "source": [
    "a_list=[1,2,3]"
   ]
  },
  {
   "cell_type": "code",
   "execution_count": 41,
   "id": "011ef8dd-413c-4a10-bf2f-2a185ec41e03",
   "metadata": {},
   "outputs": [],
   "source": [
    "a_list.append(42)"
   ]
  },
  {
   "cell_type": "code",
   "execution_count": 42,
   "id": "862db64e-bcad-4e5c-bd22-327787f13615",
   "metadata": {},
   "outputs": [
    {
     "data": {
      "text/plain": [
       "[1, 2, 3, 42]"
      ]
     },
     "execution_count": 42,
     "metadata": {},
     "output_type": "execute_result"
    }
   ],
   "source": [
    "a_list"
   ]
  },
  {
   "cell_type": "code",
   "execution_count": null,
   "id": "3160abe3-29fe-4fcd-ab9a-a06f52698cfc",
   "metadata": {},
   "outputs": [],
   "source": []
  },
  {
   "cell_type": "code",
   "execution_count": null,
   "id": "f148de5f-16a2-4f34-b009-c6405674983d",
   "metadata": {},
   "outputs": [],
   "source": [
    "#19. How do you access the third element in the list my_list = [10, 20, 30, 40]?\n"
   ]
  },
  {
   "cell_type": "code",
   "execution_count": 44,
   "id": "a3d56d70-fd1f-49ec-9639-fdd4d4795709",
   "metadata": {},
   "outputs": [],
   "source": [
    "my_list = [10, 20, 30, 40]"
   ]
  },
  {
   "cell_type": "code",
   "execution_count": 47,
   "id": "db16a3f1-801c-438d-be5e-c639240f86a0",
   "metadata": {},
   "outputs": [],
   "source": [
    "a=my_list[2]"
   ]
  },
  {
   "cell_type": "code",
   "execution_count": 48,
   "id": "49bac14a-1e2b-4f2e-9ae5-82536e5044b7",
   "metadata": {},
   "outputs": [
    {
     "data": {
      "text/plain": [
       "30"
      ]
     },
     "execution_count": 48,
     "metadata": {},
     "output_type": "execute_result"
    }
   ],
   "source": [
    "a"
   ]
  },
  {
   "cell_type": "code",
   "execution_count": null,
   "id": "115e084f-c01a-4bba-a063-aa9427cbccde",
   "metadata": {},
   "outputs": [],
   "source": []
  },
  {
   "cell_type": "code",
   "execution_count": null,
   "id": "1a5d5523-ddc7-45b3-9a04-a4f153b26cdc",
   "metadata": {},
   "outputs": [],
   "source": [
    "#20. What is the difference between a list and a tuple in Python?"
   ]
  },
  {
   "cell_type": "code",
   "execution_count": null,
   "id": "e9752179-a942-44c1-9c8e-cb10862e9850",
   "metadata": {},
   "outputs": [],
   "source": [
    "List\n",
    "A list is mutable\n",
    "Lists using square brackets []\n",
    "Lists of items that might change "
   ]
  },
  {
   "cell_type": "code",
   "execution_count": null,
   "id": "08581c7e-6098-4702-844a-3b4d4af6b85d",
   "metadata": {},
   "outputs": [],
   "source": [
    "Tuple\n",
    "A tuple is immutable\n",
    "Tuples are using round brackets ()\n",
    "uples are fixed collection of items"
   ]
  },
  {
   "cell_type": "code",
   "execution_count": null,
   "id": "404eea15-905f-4b2e-b8d7-d0e977c55087",
   "metadata": {},
   "outputs": [],
   "source": []
  },
  {
   "cell_type": "code",
   "execution_count": null,
   "id": "be9802c7-3b9b-4d7d-aef3-c054d2873aef",
   "metadata": {},
   "outputs": [],
   "source": [
    "#21. Write a Python code to create a set with the elements 1, 2, and 3.\n"
   ]
  },
  {
   "cell_type": "code",
   "execution_count": 49,
   "id": "16d085cb-2798-4928-b82f-400847c65f4a",
   "metadata": {},
   "outputs": [],
   "source": [
    "a_set ={1,2,3}"
   ]
  },
  {
   "cell_type": "code",
   "execution_count": 50,
   "id": "5a3aee06-6fe7-4e98-a464-a1637936310e",
   "metadata": {},
   "outputs": [
    {
     "name": "stdout",
     "output_type": "stream",
     "text": [
      "{1, 2, 3}\n"
     ]
    }
   ],
   "source": [
    "print(a_set)"
   ]
  },
  {
   "cell_type": "code",
   "execution_count": null,
   "id": "4455cb25-b9ea-4221-9067-4084b8ae7e45",
   "metadata": {},
   "outputs": [],
   "source": []
  },
  {
   "cell_type": "code",
   "execution_count": null,
   "id": "e74d238d-aad7-401f-b86a-997c84b73583",
   "metadata": {},
   "outputs": [],
   "source": [
    "#22. How do you remove an element from a set in Python?\n"
   ]
  },
  {
   "cell_type": "code",
   "execution_count": 56,
   "id": "366731f4-6a7e-4b88-8d3e-1c55de79b60e",
   "metadata": {},
   "outputs": [],
   "source": [
    "a_set={20,25,30,35}"
   ]
  },
  {
   "cell_type": "code",
   "execution_count": 61,
   "id": "c7a97486-b2ff-49fd-8dda-690cbf58dcd4",
   "metadata": {},
   "outputs": [],
   "source": [
    "a_set.remove(25)"
   ]
  },
  {
   "cell_type": "code",
   "execution_count": 62,
   "id": "4efb1864-912d-4306-9b48-6e062a3c5386",
   "metadata": {},
   "outputs": [
    {
     "data": {
      "text/plain": [
       "{20, 30, 35}"
      ]
     },
     "execution_count": 62,
     "metadata": {},
     "output_type": "execute_result"
    }
   ],
   "source": [
    "a_set"
   ]
  },
  {
   "cell_type": "code",
   "execution_count": null,
   "id": "3602fe45-b363-455b-ad4b-633e6d840595",
   "metadata": {},
   "outputs": [],
   "source": []
  },
  {
   "cell_type": "code",
   "execution_count": null,
   "id": "b1a65992-8333-4562-8f07-c34f0f0192f4",
   "metadata": {},
   "outputs": [],
   "source": [
    "#23. Write code to retrieve the value of the key 'name' from the dictionary person = {'name': 'Alice',\n",
    "'age': 25}."
   ]
  },
  {
   "cell_type": "code",
   "execution_count": 63,
   "id": "5de7d84c-67a4-4644-97f9-3ba88af041fb",
   "metadata": {},
   "outputs": [],
   "source": [
    "person = {'name': 'Alice', 'age': 25}\n"
   ]
  },
  {
   "cell_type": "code",
   "execution_count": 67,
   "id": "8be55e7e-5442-499a-a058-d25db8773a7b",
   "metadata": {},
   "outputs": [],
   "source": [
    "a_value=person['name']\n"
   ]
  },
  {
   "cell_type": "code",
   "execution_count": 68,
   "id": "f164bbc0-3e57-4b6e-a4be-a6e8e7e38ff8",
   "metadata": {},
   "outputs": [
    {
     "data": {
      "text/plain": [
       "'Alice'"
      ]
     },
     "execution_count": 68,
     "metadata": {},
     "output_type": "execute_result"
    }
   ],
   "source": [
    "a_value"
   ]
  },
  {
   "cell_type": "code",
   "execution_count": null,
   "id": "550156ce-83fc-4301-b836-1a38dca8a8cf",
   "metadata": {},
   "outputs": [],
   "source": []
  },
  {
   "cell_type": "code",
   "execution_count": null,
   "id": "881097be-b2dd-4569-8438-af980efb1a8b",
   "metadata": {},
   "outputs": [],
   "source": [
    "#25. Given my_tuple = (5, 10, 15), how can you access the element 10?\n"
   ]
  },
  {
   "cell_type": "code",
   "execution_count": 70,
   "id": "783055eb-2b54-4037-ac8a-5b9a5c5cc6ae",
   "metadata": {},
   "outputs": [],
   "source": [
    "my_tuple = (5, 10, 15)\n"
   ]
  },
  {
   "cell_type": "code",
   "execution_count": 71,
   "id": "47e9be47-20ec-4634-ad46-d9b73efe4f90",
   "metadata": {},
   "outputs": [],
   "source": [
    "a=my_tuple[1]\n"
   ]
  },
  {
   "cell_type": "code",
   "execution_count": 72,
   "id": "a557d958-25fd-4fde-add5-301ee74ba897",
   "metadata": {},
   "outputs": [
    {
     "data": {
      "text/plain": [
       "10"
      ]
     },
     "execution_count": 72,
     "metadata": {},
     "output_type": "execute_result"
    }
   ],
   "source": [
    "a"
   ]
  },
  {
   "cell_type": "code",
   "execution_count": null,
   "id": "2fbc22a1-47b5-473b-be28-a09c1449042c",
   "metadata": {},
   "outputs": [],
   "source": []
  },
  {
   "cell_type": "code",
   "execution_count": null,
   "id": "707db9d4-6039-456c-8c4c-94020efae01b",
   "metadata": {},
   "outputs": [],
   "source": [
    "#Methods of Data Structures\n"
   ]
  },
  {
   "cell_type": "code",
   "execution_count": null,
   "id": "122eb26f-3b32-4f75-b5d5-2ec710f93158",
   "metadata": {},
   "outputs": [],
   "source": [
    "#26. How do you find the length of a list numbers = [1, 2, 3, 4, 5]?\n"
   ]
  },
  {
   "cell_type": "code",
   "execution_count": 73,
   "id": "4054702d-2191-4df6-ba60-12fc478f0382",
   "metadata": {},
   "outputs": [],
   "source": [
    "list_number=[1,2,3,4,5]"
   ]
  },
  {
   "cell_type": "code",
   "execution_count": 77,
   "id": "a745e305-58bc-4d69-bc06-4256845b3173",
   "metadata": {},
   "outputs": [],
   "source": [
    "a=len(list_number)"
   ]
  },
  {
   "cell_type": "code",
   "execution_count": 78,
   "id": "01fd108b-89b6-4fb2-b5a7-b03448705b0b",
   "metadata": {},
   "outputs": [
    {
     "data": {
      "text/plain": [
       "5"
      ]
     },
     "execution_count": 78,
     "metadata": {},
     "output_type": "execute_result"
    }
   ],
   "source": [
    "a"
   ]
  },
  {
   "cell_type": "code",
   "execution_count": null,
   "id": "0d0a5bcf-549a-4cc8-a228-118a52dfd0d3",
   "metadata": {},
   "outputs": [],
   "source": [
    "#28. Write a Python code to sort the list [4, 1, 3, 2] in ascending order.\n"
   ]
  },
  {
   "cell_type": "code",
   "execution_count": 79,
   "id": "f195c28a-96bf-4f1a-b98d-979460ce6dda",
   "metadata": {},
   "outputs": [],
   "source": [
    "a_list=[4,1,3,2]"
   ]
  },
  {
   "cell_type": "code",
   "execution_count": 81,
   "id": "28e744ff-49bd-4bb6-b6f9-27cb15b4b07b",
   "metadata": {},
   "outputs": [],
   "source": [
    "a_list.sort()"
   ]
  },
  {
   "cell_type": "code",
   "execution_count": 82,
   "id": "31315424-a802-47f0-976f-16cf8f349f80",
   "metadata": {},
   "outputs": [
    {
     "data": {
      "text/plain": [
       "[1, 2, 3, 4]"
      ]
     },
     "execution_count": 82,
     "metadata": {},
     "output_type": "execute_result"
    }
   ],
   "source": [
    "a_list"
   ]
  },
  {
   "cell_type": "code",
   "execution_count": null,
   "id": "e37bb57c-90e0-4e6d-9eb4-1da42c0d0a2b",
   "metadata": {},
   "outputs": [],
   "source": []
  },
  {
   "cell_type": "code",
   "execution_count": null,
   "id": "e3ed7d6c-9eda-438e-a8fb-f1d1b0c718d0",
   "metadata": {},
   "outputs": [],
   "source": [
    "#29. How do you check if the number 5 is in the list [1, 2, 3, 4, 5]?\n"
   ]
  },
  {
   "cell_type": "code",
   "execution_count": 83,
   "id": "57eb2d8b-eebc-41fc-9dea-0ac7ffcf29bd",
   "metadata": {},
   "outputs": [],
   "source": [
    "my_list = [1, 2, 3, 4, 5]"
   ]
  },
  {
   "cell_type": "code",
   "execution_count": 84,
   "id": "9faf38dd-c3a0-4b68-b441-1379f9d50e1f",
   "metadata": {},
   "outputs": [
    {
     "name": "stdout",
     "output_type": "stream",
     "text": [
      "5 is in the list.\n"
     ]
    }
   ],
   "source": [
    "if 5 in my_list:\n",
    "    print(\"5 is in the list.\")\n",
    "else:\n",
    "    print(\"5 is not in the list.\")"
   ]
  },
  {
   "cell_type": "code",
   "execution_count": null,
   "id": "30ea7821-925d-408c-966d-ca8e695f3d74",
   "metadata": {},
   "outputs": [],
   "source": [
    "        "
   ]
  },
  {
   "cell_type": "code",
   "execution_count": null,
   "id": "88087fe6-5f87-4048-8c22-a64cbaa5bc87",
   "metadata": {},
   "outputs": [],
   "source": [
    "#30. Write a code to concatenate two lists. [1, 2, 3] and [4, 5, 6]\n"
   ]
  },
  {
   "cell_type": "code",
   "execution_count": 85,
   "id": "e95e9649-de17-4054-8b2b-9656e13d32a0",
   "metadata": {},
   "outputs": [],
   "source": [
    "a= [1, 2, 3]\n",
    "b=[4, 5, 6]"
   ]
  },
  {
   "cell_type": "code",
   "execution_count": 86,
   "id": "a73b2fbc-7d69-4303-b3f9-1e7d6ed8be34",
   "metadata": {},
   "outputs": [],
   "source": [
    "c=a+b"
   ]
  },
  {
   "cell_type": "code",
   "execution_count": 87,
   "id": "8e9e7704-5623-4e93-b505-bae96f882542",
   "metadata": {},
   "outputs": [
    {
     "data": {
      "text/plain": [
       "[1, 2, 3, 4, 5, 6]"
      ]
     },
     "execution_count": 87,
     "metadata": {},
     "output_type": "execute_result"
    }
   ],
   "source": [
    "c"
   ]
  },
  {
   "cell_type": "code",
   "execution_count": null,
   "id": "d59dfff8-0f21-45db-825a-855790933b89",
   "metadata": {},
   "outputs": [],
   "source": []
  }
 ],
 "metadata": {
  "kernelspec": {
   "display_name": "Python 3 (ipykernel)",
   "language": "python",
   "name": "python3"
  },
  "language_info": {
   "codemirror_mode": {
    "name": "ipython",
    "version": 3
   },
   "file_extension": ".py",
   "mimetype": "text/x-python",
   "name": "python",
   "nbconvert_exporter": "python",
   "pygments_lexer": "ipython3",
   "version": "3.12.7"
  }
 },
 "nbformat": 4,
 "nbformat_minor": 5
}
